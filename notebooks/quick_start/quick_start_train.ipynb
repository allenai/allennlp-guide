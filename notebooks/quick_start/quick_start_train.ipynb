{
  "nbformat": 4,
  "nbformat_minor": 0,
  "metadata": {
    "colab": {
      "name": "quick_start_train.ipynb",
      "provenance": [],
      "collapsed_sections": [
        "0-UErUopqefu",
        "fBIzbRQTjNvp",
        "PnEOIvI_tlX9",
        "L7LtlfL6toUI",
        "tXZbHG7UtqGj",
        "PHvQCZlPtsP4",
        "vTQ9mvEvtvZ7",
        "Z8WZfNOetw3H"
      ],
      "authorship_tag": "ABX9TyPLgpMKZxmGowOo9QkPOmiZ",
      "include_colab_link": true
    },
    "kernelspec": {
      "name": "python3",
      "display_name": "Python 3"
    },
    "accelerator": "GPU"
  },
  "cells": [
    {
      "cell_type": "markdown",
      "metadata": {
        "id": "view-in-github",
        "colab_type": "text"
      },
      "source": [
        "<a href=\"https://colab.research.google.com/github/ekdnam/allennlp-guide/blob/add-notebooks-quick-start/notebooks/quick_start/quick_start_train.ipynb\" target=\"_parent\"><img src=\"https://colab.research.google.com/assets/colab-badge.svg\" alt=\"Open In Colab\"/></a>"
      ]
    },
    {
      "cell_type": "markdown",
      "metadata": {
        "id": "G5aBD7iyu-NW"
      },
      "source": [
        "# Part 1: Quick Start\r\n",
        "\r\n",
        "Part 1 gives you a quick walk-through of main AllenNLP concepts and features. We’ll build a complete, working NLP model (text classifier) along the way."
      ]
    },
    {
      "cell_type": "markdown",
      "metadata": {
        "id": "0-UErUopqefu"
      },
      "source": [
        "# Introduction"
      ]
    },
    {
      "cell_type": "markdown",
      "metadata": {
        "id": "l_AJqSjwjEnc"
      },
      "source": [
        "## 1. What is text classification?\r\n",
        "\r\n",
        "Text classification is one of the simplest NLP tasks, where the model, given some input text, predicts a label for the text. See the figure below for an illustration.\r\n",
        "\r\n",
        "![text-classification.svg](https://raw.githubusercontent.com/allenai/allennlp-guide/master/static/part1/introduction/text-classification.svg)\r\n",
        "\r\n",
        "There are a variety of applications of text classification, such as spam filtering, sentiment analysis, and topic detection. Some examples are shown in the table below.\r\n",
        "\r\n",
        "|Application| Description | Input | Output |\r\n",
        "|---|---|---| ---|\r\n",
        "| Spam filtering | Detect and filter spam emails | Email | Spam / Not spam |\r\n",
        "| Sentiment analysis | Detect the polarity of text | Tweet, review | Positive / Negative |\r\n",
        "|Topic detection | Detect the topic of text | News article, blog post | Business / Tech / Sports |"
      ]
    },
    {
      "cell_type": "markdown",
      "metadata": {
        "id": "bzN7oAsml4nP"
      },
      "source": [
        "## 2. Defining input and output\r\n",
        "\r\n",
        "The first step for building an NLP model is to define its input and output. In AllenNLP, each training example is represented by an `Instance` object. An `Instance` consists of one or more `Fields`, where each `Field` represents one piece of data used by your model, either as an input or an output. `Fields` well get converted to tensors and fed to your model. The [Reading Data Chapter](https://guide.allennlp.org/reading-data) provides more details on using `Instances` and `Fields` to represent textual data.\r\n",
        "\r\n",
        "For text classification, the input and the output are very simple. The model takes a `TextField` that represents the input text and predicts its label, which is represented by a `LabelField`:\r\n",
        "\r\n",
        "```\r\n",
        "# Input\r\n",
        "text: TextField\r\n",
        "\r\n",
        "# Output\r\n",
        "label: LabelField\r\n",
        "```"
      ]
    },
    {
      "cell_type": "markdown",
      "metadata": {
        "id": "4IaBHsvjoZqB"
      },
      "source": [
        "## 3. Reading data\r\n",
        "\r\n",
        "![dataset-reader.png](https://raw.githubusercontent.com/allenai/allennlp-guide/master/static/part1/your-first-model/dataset-reader.svg)\r\n",
        "\r\n",
        "The first step for building an NLP application is to read the dataset and represent it with some internal data structure.\r\n",
        "\r\n",
        "AllenNLP uses `DatasetReaders` to read the data, whose job is to transform raw data files into `Instances` that match the input / ouput spec. Our spec for text classification is:\r\n",
        "\r\n",
        "```\r\n",
        "# Inputs\r\n",
        "text: TextField\r\n",
        "\r\n",
        "# Outputs\r\n",
        "label: LabelField\r\n",
        "```\r\n",
        "\r\n",
        "We'll want one `Field` for the input and another for the output, and our model will use the inputs to predict the outputs.\r\n",
        "\r\n",
        "We assume the dataset has a simple data file format: \r\n",
        "```\r\n",
        "[text] [TAB] [label]\r\n",
        "```\r\n",
        "\r\n",
        "for example:\r\n",
        "\r\n",
        "```\r\n",
        "I like this movie a lot! [TAB] positive\r\n",
        "This was a monstrous waste of time [TAB] negative\r\n",
        "AllenNLP is amazing [TAB] positive\r\n",
        "Why does this have to be so complicated? [TAB] negative\r\n",
        "This sentence expresses no sentiment [TAB] neutral\r\n",
        "```"
      ]
    },
    {
      "cell_type": "markdown",
      "metadata": {
        "id": "PwEIQbY4qlgj"
      },
      "source": [
        "# Let's begin to code"
      ]
    },
    {
      "cell_type": "markdown",
      "metadata": {
        "id": "fBIzbRQTjNvp"
      },
      "source": [
        "# Imports\r\n",
        "\r\n",
        "At first, we will import the required libraries."
      ]
    },
    {
      "cell_type": "code",
      "metadata": {
        "id": "7qI8gsjACM0j"
      },
      "source": [
        "import tempfile\r\n",
        "from typing import Dict, Iterable, List, Tuple"
      ],
      "execution_count": 1,
      "outputs": []
    },
    {
      "cell_type": "code",
      "metadata": {
        "colab": {
          "base_uri": "https://localhost:8080/"
        },
        "id": "-eB_o0cysgoe",
        "outputId": "1b3e5d23-0439-4c94-d600-bfde011d70fd"
      },
      "source": [
        "!pip install allennlp"
      ],
      "execution_count": 2,
      "outputs": [
        {
          "output_type": "stream",
          "text": [
            "Collecting allennlp\n",
            "\u001b[?25l  Downloading https://files.pythonhosted.org/packages/e7/bd/c75fa01e3deb9322b637fe0be45164b40d43747661aca9195b5fb334947c/allennlp-2.1.0-py3-none-any.whl (585kB)\n",
            "\u001b[K     |████████████████████████████████| 593kB 19.0MB/s \n",
            "\u001b[?25hRequirement already satisfied: spacy<3.1,>=2.1.0 in /usr/local/lib/python3.7/dist-packages (from allennlp) (2.2.4)\n",
            "Requirement already satisfied: scipy in /usr/local/lib/python3.7/dist-packages (from allennlp) (1.4.1)\n",
            "Requirement already satisfied: scikit-learn in /usr/local/lib/python3.7/dist-packages (from allennlp) (0.22.2.post1)\n",
            "Requirement already satisfied: pytest in /usr/local/lib/python3.7/dist-packages (from allennlp) (3.6.4)\n",
            "Requirement already satisfied: more-itertools in /usr/local/lib/python3.7/dist-packages (from allennlp) (8.7.0)\n",
            "Collecting jsonnet>=0.10.0; sys_platform != \"win32\"\n",
            "\u001b[?25l  Downloading https://files.pythonhosted.org/packages/42/40/6f16e5ac994b16fa71c24310f97174ce07d3a97b433275589265c6b94d2b/jsonnet-0.17.0.tar.gz (259kB)\n",
            "\u001b[K     |████████████████████████████████| 266kB 54.1MB/s \n",
            "\u001b[?25hRequirement already satisfied: tqdm>=4.19 in /usr/local/lib/python3.7/dist-packages (from allennlp) (4.41.1)\n",
            "Collecting boto3<2.0,>=1.14\n",
            "\u001b[?25l  Downloading https://files.pythonhosted.org/packages/bd/c8/b5aac643697038ef6eb8c11c73b9ee9c2dc8cb2bc95cda2d4ee656167644/boto3-1.17.17-py2.py3-none-any.whl (130kB)\n",
            "\u001b[K     |████████████████████████████████| 133kB 24.8MB/s \n",
            "\u001b[?25hRequirement already satisfied: requests>=2.18 in /usr/local/lib/python3.7/dist-packages (from allennlp) (2.23.0)\n",
            "Requirement already satisfied: filelock<3.1,>=3.0 in /usr/local/lib/python3.7/dist-packages (from allennlp) (3.0.12)\n",
            "Requirement already satisfied: numpy in /usr/local/lib/python3.7/dist-packages (from allennlp) (1.19.5)\n",
            "Requirement already satisfied: nltk in /usr/local/lib/python3.7/dist-packages (from allennlp) (3.2.5)\n",
            "Collecting transformers<4.4,>=4.1\n",
            "\u001b[?25l  Downloading https://files.pythonhosted.org/packages/f9/54/5ca07ec9569d2f232f3166de5457b63943882f7950ddfcc887732fc7fb23/transformers-4.3.3-py3-none-any.whl (1.9MB)\n",
            "\u001b[K     |████████████████████████████████| 1.9MB 56.2MB/s \n",
            "\u001b[?25hRequirement already satisfied: torchvision<0.9.0,>=0.8.1 in /usr/local/lib/python3.7/dist-packages (from allennlp) (0.8.2+cu101)\n",
            "Collecting overrides==3.1.0\n",
            "  Downloading https://files.pythonhosted.org/packages/ff/b1/10f69c00947518e6676bbd43e739733048de64b8dd998e9c2d5a71f44c5d/overrides-3.1.0.tar.gz\n",
            "Requirement already satisfied: lmdb in /usr/local/lib/python3.7/dist-packages (from allennlp) (0.99)\n",
            "Requirement already satisfied: torch<1.8.0,>=1.6.0 in /usr/local/lib/python3.7/dist-packages (from allennlp) (1.7.1+cu101)\n",
            "Collecting tensorboardX>=1.2\n",
            "\u001b[?25l  Downloading https://files.pythonhosted.org/packages/af/0c/4f41bcd45db376e6fe5c619c01100e9b7531c55791b7244815bac6eac32c/tensorboardX-2.1-py2.py3-none-any.whl (308kB)\n",
            "\u001b[K     |████████████████████████████████| 317kB 52.2MB/s \n",
            "\u001b[?25hRequirement already satisfied: h5py in /usr/local/lib/python3.7/dist-packages (from allennlp) (2.10.0)\n",
            "Collecting jsonpickle\n",
            "  Downloading https://files.pythonhosted.org/packages/bb/1a/f2db026d4d682303793559f1c2bb425ba3ec0d6fd7ac63397790443f2461/jsonpickle-2.0.0-py2.py3-none-any.whl\n",
            "Collecting sentencepiece\n",
            "\u001b[?25l  Downloading https://files.pythonhosted.org/packages/f5/99/e0808cb947ba10f575839c43e8fafc9cc44e4a7a2c8f79c60db48220a577/sentencepiece-0.1.95-cp37-cp37m-manylinux2014_x86_64.whl (1.2MB)\n",
            "\u001b[K     |████████████████████████████████| 1.2MB 42.3MB/s \n",
            "\u001b[?25hRequirement already satisfied: wasabi<1.1.0,>=0.4.0 in /usr/local/lib/python3.7/dist-packages (from spacy<3.1,>=2.1.0->allennlp) (0.8.2)\n",
            "Requirement already satisfied: thinc==7.4.0 in /usr/local/lib/python3.7/dist-packages (from spacy<3.1,>=2.1.0->allennlp) (7.4.0)\n",
            "Requirement already satisfied: setuptools in /usr/local/lib/python3.7/dist-packages (from spacy<3.1,>=2.1.0->allennlp) (53.0.0)\n",
            "Requirement already satisfied: catalogue<1.1.0,>=0.0.7 in /usr/local/lib/python3.7/dist-packages (from spacy<3.1,>=2.1.0->allennlp) (1.0.0)\n",
            "Requirement already satisfied: cymem<2.1.0,>=2.0.2 in /usr/local/lib/python3.7/dist-packages (from spacy<3.1,>=2.1.0->allennlp) (2.0.5)\n",
            "Requirement already satisfied: plac<1.2.0,>=0.9.6 in /usr/local/lib/python3.7/dist-packages (from spacy<3.1,>=2.1.0->allennlp) (1.1.3)\n",
            "Requirement already satisfied: preshed<3.1.0,>=3.0.2 in /usr/local/lib/python3.7/dist-packages (from spacy<3.1,>=2.1.0->allennlp) (3.0.5)\n",
            "Requirement already satisfied: murmurhash<1.1.0,>=0.28.0 in /usr/local/lib/python3.7/dist-packages (from spacy<3.1,>=2.1.0->allennlp) (1.0.5)\n",
            "Requirement already satisfied: srsly<1.1.0,>=1.0.2 in /usr/local/lib/python3.7/dist-packages (from spacy<3.1,>=2.1.0->allennlp) (1.0.5)\n",
            "Requirement already satisfied: blis<0.5.0,>=0.4.0 in /usr/local/lib/python3.7/dist-packages (from spacy<3.1,>=2.1.0->allennlp) (0.4.1)\n",
            "Requirement already satisfied: joblib>=0.11 in /usr/local/lib/python3.7/dist-packages (from scikit-learn->allennlp) (1.0.1)\n",
            "Requirement already satisfied: attrs>=17.4.0 in /usr/local/lib/python3.7/dist-packages (from pytest->allennlp) (20.3.0)\n",
            "Requirement already satisfied: atomicwrites>=1.0 in /usr/local/lib/python3.7/dist-packages (from pytest->allennlp) (1.4.0)\n",
            "Requirement already satisfied: six>=1.10.0 in /usr/local/lib/python3.7/dist-packages (from pytest->allennlp) (1.15.0)\n",
            "Requirement already satisfied: pluggy<0.8,>=0.5 in /usr/local/lib/python3.7/dist-packages (from pytest->allennlp) (0.7.1)\n",
            "Requirement already satisfied: py>=1.5.0 in /usr/local/lib/python3.7/dist-packages (from pytest->allennlp) (1.10.0)\n",
            "Collecting s3transfer<0.4.0,>=0.3.0\n",
            "\u001b[?25l  Downloading https://files.pythonhosted.org/packages/ea/43/4b4a1b26eb03a429a4c37ca7fdf369d938bd60018fc194e94b8379b0c77c/s3transfer-0.3.4-py2.py3-none-any.whl (69kB)\n",
            "\u001b[K     |████████████████████████████████| 71kB 10.6MB/s \n",
            "\u001b[?25hCollecting jmespath<1.0.0,>=0.7.1\n",
            "  Downloading https://files.pythonhosted.org/packages/07/cb/5f001272b6faeb23c1c9e0acc04d48eaaf5c862c17709d20e3469c6e0139/jmespath-0.10.0-py2.py3-none-any.whl\n",
            "Collecting botocore<1.21.0,>=1.20.17\n",
            "\u001b[?25l  Downloading https://files.pythonhosted.org/packages/e6/fb/7ea265e28306dde068c74e6792affd4df43e51784384829c69142042ad56/botocore-1.20.17-py2.py3-none-any.whl (7.3MB)\n",
            "\u001b[K     |████████████████████████████████| 7.3MB 36.7MB/s \n",
            "\u001b[?25hRequirement already satisfied: certifi>=2017.4.17 in /usr/local/lib/python3.7/dist-packages (from requests>=2.18->allennlp) (2020.12.5)\n",
            "Requirement already satisfied: idna<3,>=2.5 in /usr/local/lib/python3.7/dist-packages (from requests>=2.18->allennlp) (2.10)\n",
            "Requirement already satisfied: chardet<4,>=3.0.2 in /usr/local/lib/python3.7/dist-packages (from requests>=2.18->allennlp) (3.0.4)\n",
            "Requirement already satisfied: urllib3!=1.25.0,!=1.25.1,<1.26,>=1.21.1 in /usr/local/lib/python3.7/dist-packages (from requests>=2.18->allennlp) (1.24.3)\n",
            "Requirement already satisfied: regex!=2019.12.17 in /usr/local/lib/python3.7/dist-packages (from transformers<4.4,>=4.1->allennlp) (2019.12.20)\n",
            "Collecting tokenizers<0.11,>=0.10.1\n",
            "\u001b[?25l  Downloading https://files.pythonhosted.org/packages/71/23/2ddc317b2121117bf34dd00f5b0de194158f2a44ee2bf5e47c7166878a97/tokenizers-0.10.1-cp37-cp37m-manylinux2010_x86_64.whl (3.2MB)\n",
            "\u001b[K     |████████████████████████████████| 3.2MB 45.0MB/s \n",
            "\u001b[?25hCollecting sacremoses\n",
            "\u001b[?25l  Downloading https://files.pythonhosted.org/packages/7d/34/09d19aff26edcc8eb2a01bed8e98f13a1537005d31e95233fd48216eed10/sacremoses-0.0.43.tar.gz (883kB)\n",
            "\u001b[K     |████████████████████████████████| 890kB 48.0MB/s \n",
            "\u001b[?25hRequirement already satisfied: packaging in /usr/local/lib/python3.7/dist-packages (from transformers<4.4,>=4.1->allennlp) (20.9)\n",
            "Requirement already satisfied: importlib-metadata; python_version < \"3.8\" in /usr/local/lib/python3.7/dist-packages (from transformers<4.4,>=4.1->allennlp) (3.7.0)\n",
            "Requirement already satisfied: pillow>=4.1.1 in /usr/local/lib/python3.7/dist-packages (from torchvision<0.9.0,>=0.8.1->allennlp) (7.0.0)\n",
            "Requirement already satisfied: typing-extensions in /usr/local/lib/python3.7/dist-packages (from torch<1.8.0,>=1.6.0->allennlp) (3.7.4.3)\n",
            "Requirement already satisfied: protobuf>=3.8.0 in /usr/local/lib/python3.7/dist-packages (from tensorboardX>=1.2->allennlp) (3.12.4)\n",
            "Requirement already satisfied: python-dateutil<3.0.0,>=2.1 in /usr/local/lib/python3.7/dist-packages (from botocore<1.21.0,>=1.20.17->boto3<2.0,>=1.14->allennlp) (2.8.1)\n",
            "Requirement already satisfied: click in /usr/local/lib/python3.7/dist-packages (from sacremoses->transformers<4.4,>=4.1->allennlp) (7.1.2)\n",
            "Requirement already satisfied: pyparsing>=2.0.2 in /usr/local/lib/python3.7/dist-packages (from packaging->transformers<4.4,>=4.1->allennlp) (2.4.7)\n",
            "Requirement already satisfied: zipp>=0.5 in /usr/local/lib/python3.7/dist-packages (from importlib-metadata; python_version < \"3.8\"->transformers<4.4,>=4.1->allennlp) (3.4.0)\n",
            "Building wheels for collected packages: jsonnet, overrides, sacremoses\n",
            "  Building wheel for jsonnet (setup.py) ... \u001b[?25l\u001b[?25hdone\n",
            "  Created wheel for jsonnet: filename=jsonnet-0.17.0-cp37-cp37m-linux_x86_64.whl size=3388751 sha256=6073d1c844e65d56543bd252922dd1baab05914c73ada0274b1cd8c3cef3c1e3\n",
            "  Stored in directory: /root/.cache/pip/wheels/26/7a/37/7dbcc30a6b4efd17b91ad1f0128b7bbf84813bd4e1cfb8c1e3\n",
            "  Building wheel for overrides (setup.py) ... \u001b[?25l\u001b[?25hdone\n",
            "  Created wheel for overrides: filename=overrides-3.1.0-cp37-none-any.whl size=10174 sha256=6ef02ec8f7b45262da13d506c59a9242680e17855b876b6d04db1084dddeee65\n",
            "  Stored in directory: /root/.cache/pip/wheels/5c/24/13/6ef8600e6f147c95e595f1289a86a3cc82ed65df57582c65a9\n",
            "  Building wheel for sacremoses (setup.py) ... \u001b[?25l\u001b[?25hdone\n",
            "  Created wheel for sacremoses: filename=sacremoses-0.0.43-cp37-none-any.whl size=893262 sha256=7028d980b3196f17b1963dde3dcdd9bdcc8d3f21445ece73beab86eeeb572564\n",
            "  Stored in directory: /root/.cache/pip/wheels/29/3c/fd/7ce5c3f0666dab31a50123635e6fb5e19ceb42ce38d4e58f45\n",
            "Successfully built jsonnet overrides sacremoses\n",
            "\u001b[31mERROR: botocore 1.20.17 has requirement urllib3<1.27,>=1.25.4, but you'll have urllib3 1.24.3 which is incompatible.\u001b[0m\n",
            "Installing collected packages: jsonnet, jmespath, botocore, s3transfer, boto3, tokenizers, sacremoses, transformers, overrides, tensorboardX, jsonpickle, sentencepiece, allennlp\n",
            "Successfully installed allennlp-2.1.0 boto3-1.17.17 botocore-1.20.17 jmespath-0.10.0 jsonnet-0.17.0 jsonpickle-2.0.0 overrides-3.1.0 s3transfer-0.3.4 sacremoses-0.0.43 sentencepiece-0.1.95 tensorboardX-2.1 tokenizers-0.10.1 transformers-4.3.3\n"
          ],
          "name": "stdout"
        }
      ]
    },
    {
      "cell_type": "code",
      "metadata": {
        "id": "m9bkrj3asXE3"
      },
      "source": [
        "import allennlp\r\n",
        "import torch\r\n",
        "from allennlp.data import (\r\n",
        "    DataLoader,\r\n",
        "    DatasetReader,\r\n",
        "    Instance,\r\n",
        "    Vocabulary,\r\n",
        "    TextFieldTensors,\r\n",
        ")\r\n",
        "from allennlp.data.data_loaders import SimpleDataLoader\r\n",
        "from allennlp.data.fields import LabelField, TextField\r\n",
        "from allennlp.data.token_indexers import TokenIndexer, SingleIdTokenIndexer\r\n",
        "from allennlp.data.tokenizers import Token, Tokenizer, WhitespaceTokenizer\r\n",
        "from allennlp.models import Model\r\n",
        "from allennlp.modules import TextFieldEmbedder, Seq2VecEncoder\r\n",
        "from allennlp.modules.seq2vec_encoders import BagOfEmbeddingsEncoder\r\n",
        "from allennlp.modules.token_embedders import Embedding\r\n",
        "from allennlp.modules.text_field_embedders import BasicTextFieldEmbedder\r\n",
        "from allennlp.nn import util\r\n",
        "from allennlp.training.trainer import GradientDescentTrainer, Trainer\r\n",
        "from allennlp.training.optimizers import AdamOptimizer\r\n",
        "from allennlp.training.metrics import CategoricalAccuracy"
      ],
      "execution_count": 3,
      "outputs": []
    },
    {
      "cell_type": "markdown",
      "metadata": {
        "id": "5o2gOAXZnW_O"
      },
      "source": [
        "# Making a DatasetReader"
      ]
    },
    {
      "cell_type": "markdown",
      "metadata": {
        "id": "5QkolYE0rAOs"
      },
      "source": [
        "You can implement your own `DatasetReader` by inheriting from the `DatasetReader` class. At minimum, you need to override the `_read()` method, which reads the input and yields `Instances`"
      ]
    },
    {
      "cell_type": "code",
      "metadata": {
        "id": "sJeqKLlEseA7"
      },
      "source": [
        "class ClassificationTsvReader(DatasetReader):\r\n",
        "    def __init__(\r\n",
        "        self,\r\n",
        "        tokenizer: Tokenizer = None,\r\n",
        "        token_indexers: Dict[str, TokenIndexer] = None,\r\n",
        "        max_tokens: int = None,\r\n",
        "        **kwargs\r\n",
        "    ):\r\n",
        "        super().__init__(**kwargs)\r\n",
        "        self.tokenizer = tokenizer or WhitespaceTokenizer()\r\n",
        "        self.token_indexers = token_indexers or {\"tokens\": SingleIdTokenIndexer()}\r\n",
        "        self.max_tokens = max_tokens\r\n",
        "\r\n",
        "    def _read(self, file_path: str) -> Iterable[Instance]:\r\n",
        "        with open(file_path, \"r\") as lines:\r\n",
        "            for line in lines:\r\n",
        "                text, sentiment = line.strip().split(\"\\t\")\r\n",
        "                tokens = self.tokenizer.tokenize(text)\r\n",
        "                if self.max_tokens:\r\n",
        "                    tokens = tokens[: self.max_tokens]\r\n",
        "                text_field = TextField(tokens, self.token_indexers)\r\n",
        "                label_field = LabelField(sentiment)\r\n",
        "                yield Instance({\"text\": text_field, \"label\": label_field})\r\n"
      ],
      "execution_count": null,
      "outputs": []
    },
    {
      "cell_type": "markdown",
      "metadata": {
        "id": "eUhKJOfMr1KG"
      },
      "source": [
        "This is a minimal `DatasetReader` that will return a list of classification `Instances` when you call `reader.read(file)`. This reader will take each line in the input file, split the `text` into words using a tokenizer (the `SpaCyTokenizer` shown here relies on [spaCy](https://spacy.io/)), and represent those words as tensors using a word id in a vocabulary we construct for you.\r\n",
        "\r\n",
        "Pay special attention to the `text` and `label` keys that are used in the fields dictionary passed to the `Instance` - these keys will be used as parameter names when passing tensors into your `Model` later.\r\n",
        "\r\n",
        "Ideally, the output label would be optional when we create the `Instances`, so that we can use the same code to make predictions on unlabeled data (say, in a demo), but for the rest of this chapter we’ll keep things simple and ignore that.\r\n",
        "\r\n",
        "There are lots of places where this could be made better for a more flexible and fully-featured reader; see the section on [DatasetReaders](https://guide.allennlp.org/reading-data#2) for a deeper dive."
      ]
    },
    {
      "cell_type": "markdown",
      "metadata": {
        "id": "PnEOIvI_tlX9"
      },
      "source": [
        "# Model \r\n",
        "\r\n",
        "TODO"
      ]
    },
    {
      "cell_type": "code",
      "metadata": {
        "id": "aRz02XVes8ss"
      },
      "source": [
        "class SimpleClassifier(Model):\r\n",
        "    def __init__(\r\n",
        "        self, vocab: Vocabulary, embedder: TextFieldEmbedder, encoder: Seq2VecEncoder\r\n",
        "    ):\r\n",
        "        super().__init__(vocab)\r\n",
        "        self.embedder = embedder\r\n",
        "        self.encoder = encoder\r\n",
        "        num_labels = vocab.get_vocab_size(\"labels\")\r\n",
        "        self.classifier = torch.nn.Linear(encoder.get_output_dim(), num_labels)\r\n",
        "\r\n",
        "    def forward(\r\n",
        "        self, text: TextFieldTensors, label: torch.Tensor\r\n",
        "    ) -> Dict[str, torch.Tensor]:\r\n",
        "        print(\"In model.forward(); printing here just because binder is so slow\")\r\n",
        "        # Shape: (batch_size, num_tokens, embedding_dim)\r\n",
        "        embedded_text = self.embedder(text)\r\n",
        "        # Shape: (batch_size, num_tokens)\r\n",
        "        mask = util.get_text_field_mask(text)\r\n",
        "        # Shape: (batch_size, encoding_dim)\r\n",
        "        encoded_text = self.encoder(embedded_text, mask)\r\n",
        "        # Shape: (batch_size, num_labels)\r\n",
        "        logits = self.classifier(encoded_text)\r\n",
        "        # Shape: (batch_size, num_labels)\r\n",
        "        probs = torch.nn.functional.softmax(logits, dim=-1)\r\n",
        "        # Shape: (1,)\r\n",
        "        loss = torch.nn.functional.cross_entropy(logits, label)\r\n",
        "        return {\"loss\": loss, \"probs\": probs}\r\n"
      ],
      "execution_count": null,
      "outputs": []
    },
    {
      "cell_type": "markdown",
      "metadata": {
        "id": "L7LtlfL6toUI"
      },
      "source": [
        "# TODO"
      ]
    },
    {
      "cell_type": "code",
      "metadata": {
        "id": "66DJqZoItFYL"
      },
      "source": [
        "def build_dataset_reader() -> DatasetReader:\r\n",
        "    return ClassificationTsvReader()"
      ],
      "execution_count": null,
      "outputs": []
    },
    {
      "cell_type": "markdown",
      "metadata": {
        "id": "tXZbHG7UtqGj"
      },
      "source": [
        "# TODO"
      ]
    },
    {
      "cell_type": "code",
      "metadata": {
        "colab": {
          "base_uri": "https://localhost:8080/"
        },
        "id": "yZxwglXGtIVj",
        "outputId": "3f05b597-9a23-46da-b7ce-c94b8f3ad5a4"
      },
      "source": [
        "!wget \"https://raw.githubusercontent.com/allenai/allennlp-guide/master/quick_start/data/movie_review/train.tsv\"\r\n",
        "!wget \"https://raw.githubusercontent.com/allenai/allennlp-guide/master/quick_start/data/movie_review/dev.tsv\"\r\n",
        "!wget \"https://raw.githubusercontent.com/allenai/allennlp-guide/master/quick_start/data/movie_review/test.tsv\""
      ],
      "execution_count": null,
      "outputs": [
        {
          "output_type": "stream",
          "text": [
            "--2021-02-27 13:40:37--  https://raw.githubusercontent.com/allenai/allennlp-guide/master/quick_start/data/movie_review/train.tsv\n",
            "Resolving raw.githubusercontent.com (raw.githubusercontent.com)... 185.199.111.133, 185.199.110.133, 185.199.108.133, ...\n",
            "Connecting to raw.githubusercontent.com (raw.githubusercontent.com)|185.199.111.133|:443... connected.\n",
            "HTTP request sent, awaiting response... 200 OK\n",
            "Length: 6175540 (5.9M) [text/plain]\n",
            "Saving to: ‘train.tsv’\n",
            "\n",
            "train.tsv           100%[===================>]   5.89M  24.6MB/s    in 0.2s    \n",
            "\n",
            "2021-02-27 13:40:38 (24.6 MB/s) - ‘train.tsv’ saved [6175540/6175540]\n",
            "\n",
            "--2021-02-27 13:40:38--  https://raw.githubusercontent.com/allenai/allennlp-guide/master/quick_start/data/movie_review/dev.tsv\n",
            "Resolving raw.githubusercontent.com (raw.githubusercontent.com)... 185.199.109.133, 185.199.111.133, 185.199.110.133, ...\n",
            "Connecting to raw.githubusercontent.com (raw.githubusercontent.com)|185.199.109.133|:443... connected.\n",
            "HTTP request sent, awaiting response... 200 OK\n",
            "Length: 744425 (727K) [text/plain]\n",
            "Saving to: ‘dev.tsv’\n",
            "\n",
            "dev.tsv             100%[===================>] 726.98K  --.-KB/s    in 0.06s   \n",
            "\n",
            "2021-02-27 13:40:38 (11.4 MB/s) - ‘dev.tsv’ saved [744425/744425]\n",
            "\n",
            "--2021-02-27 13:40:38--  https://raw.githubusercontent.com/allenai/allennlp-guide/master/quick_start/data/movie_review/test.tsv\n",
            "Resolving raw.githubusercontent.com (raw.githubusercontent.com)... 185.199.108.133, 185.199.109.133, 185.199.110.133, ...\n",
            "Connecting to raw.githubusercontent.com (raw.githubusercontent.com)|185.199.108.133|:443... connected.\n",
            "HTTP request sent, awaiting response... 200 OK\n",
            "Length: 809416 (790K) [text/plain]\n",
            "Saving to: ‘test.tsv.1’\n",
            "\n",
            "test.tsv.1          100%[===================>] 790.45K  4.53MB/s    in 0.2s    \n",
            "\n",
            "2021-02-27 13:40:39 (4.53 MB/s) - ‘test.tsv.1’ saved [809416/809416]\n",
            "\n"
          ],
          "name": "stdout"
        }
      ]
    },
    {
      "cell_type": "markdown",
      "metadata": {
        "id": "PHvQCZlPtsP4"
      },
      "source": [
        "# TODO"
      ]
    },
    {
      "cell_type": "code",
      "metadata": {
        "id": "FxpoFs5uuOLc"
      },
      "source": [
        "def read_data(reader: DatasetReader) -> Tuple[List[Instance], List[Instance]]:\r\n",
        "    print(\"Reading data\")\r\n",
        "    training_data = list(reader.read(\"train.tsv\"))\r\n",
        "    validation_data = list(reader.read(\"dev.tsv\"))\r\n",
        "    return training_data, validation_data"
      ],
      "execution_count": null,
      "outputs": []
    },
    {
      "cell_type": "code",
      "metadata": {
        "id": "X_qBH-KYtzHy"
      },
      "source": [
        "def build_vocab(instances: Iterable[Instance]) -> Vocabulary:\r\n",
        "    print(\"Building the vocabulary\")\r\n",
        "    return Vocabulary.from_instances(instances)"
      ],
      "execution_count": null,
      "outputs": []
    },
    {
      "cell_type": "code",
      "metadata": {
        "id": "UkcW51vbt167"
      },
      "source": [
        "def build_model(vocab: Vocabulary) -> Model:\r\n",
        "    print(\"Building the model\")\r\n",
        "    vocab_size = vocab.get_vocab_size(\"tokens\")\r\n",
        "    embedder = BasicTextFieldEmbedder(\r\n",
        "        {\"tokens\": Embedding(embedding_dim=10, num_embeddings=vocab_size)}\r\n",
        "    )\r\n",
        "    encoder = BagOfEmbeddingsEncoder(embedding_dim=10)\r\n",
        "    return SimpleClassifier(vocab, embedder, encoder)"
      ],
      "execution_count": null,
      "outputs": []
    },
    {
      "cell_type": "markdown",
      "metadata": {
        "id": "vTQ9mvEvtvZ7"
      },
      "source": [
        "# TODO"
      ]
    },
    {
      "cell_type": "code",
      "metadata": {
        "id": "USxbc3zAuYV9"
      },
      "source": [
        "def run_training_loop():\r\n",
        "    dataset_reader = build_dataset_reader()\r\n",
        "\r\n",
        "    train_data, dev_data = read_data(dataset_reader)\r\n",
        "\r\n",
        "    vocab = build_vocab(train_data + dev_data)\r\n",
        "    model = build_model(vocab)\r\n",
        "\r\n",
        "    train_loader, dev_loader = build_data_loaders(train_data, dev_data)\r\n",
        "    train_loader.index_with(vocab)\r\n",
        "    dev_loader.index_with(vocab)\r\n",
        "\r\n",
        "    # You obviously won't want to create a temporary file for your training\r\n",
        "    # results, but for execution in binder for this guide, we need to do this.\r\n",
        "    with tempfile.TemporaryDirectory() as serialization_dir:\r\n",
        "        trainer = build_trainer(model, serialization_dir, train_loader, dev_loader)\r\n",
        "        print(\"Starting training\")\r\n",
        "        trainer.train()\r\n",
        "        print(\"Finished training\")\r\n",
        "\r\n",
        "    return model, dataset_reader"
      ],
      "execution_count": null,
      "outputs": []
    },
    {
      "cell_type": "code",
      "metadata": {
        "id": "BoI0JGPiudVD"
      },
      "source": [
        "def build_data_loaders(\r\n",
        "    train_data: List[Instance],\r\n",
        "    dev_data: List[Instance],\r\n",
        ") -> Tuple[DataLoader, DataLoader]:\r\n",
        "    train_loader = SimpleDataLoader(train_data, 8, shuffle=True)\r\n",
        "    dev_loader = SimpleDataLoader(dev_data, 8, shuffle=False)\r\n",
        "    return train_loader, dev_loader"
      ],
      "execution_count": null,
      "outputs": []
    },
    {
      "cell_type": "code",
      "metadata": {
        "id": "AZZZXFVJufkb"
      },
      "source": [
        "def build_trainer(\r\n",
        "    model: Model,\r\n",
        "    serialization_dir: str,\r\n",
        "    train_loader: DataLoader,\r\n",
        "    dev_loader: DataLoader,\r\n",
        ") -> Trainer:\r\n",
        "    parameters = [(n, p) for n, p in model.named_parameters() if p.requires_grad]\r\n",
        "    optimizer = AdamOptimizer(parameters)  # type: ignore\r\n",
        "    trainer = GradientDescentTrainer(\r\n",
        "        model=model,\r\n",
        "        serialization_dir=serialization_dir,\r\n",
        "        data_loader=train_loader,\r\n",
        "        validation_data_loader=dev_loader,\r\n",
        "        num_epochs=5,\r\n",
        "        optimizer=optimizer,\r\n",
        "    )\r\n",
        "    return trainer"
      ],
      "execution_count": null,
      "outputs": []
    },
    {
      "cell_type": "markdown",
      "metadata": {
        "id": "Z8WZfNOetw3H"
      },
      "source": [
        "# TODO"
      ]
    },
    {
      "cell_type": "code",
      "metadata": {
        "colab": {
          "base_uri": "https://localhost:8080/"
        },
        "id": "Uufus4Rkui67",
        "outputId": "d3301a14-0198-4e44-f139-18ee2c235bb0"
      },
      "source": [
        "run_training_loop()"
      ],
      "execution_count": null,
      "outputs": [
        {
          "output_type": "stream",
          "text": [
            "Reading data\n"
          ],
          "name": "stdout"
        },
        {
          "output_type": "stream",
          "text": [
            "building vocab:  12%|#1        | 208/1800 [00:00<00:00, 2073.55it/s]"
          ],
          "name": "stderr"
        },
        {
          "output_type": "stream",
          "text": [
            "Building the vocabulary\n"
          ],
          "name": "stdout"
        },
        {
          "output_type": "stream",
          "text": [
            "building vocab: 100%|##########| 1800/1800 [00:01<00:00, 1702.41it/s]\n"
          ],
          "name": "stderr"
        },
        {
          "output_type": "stream",
          "text": [
            "Building the model\n"
          ],
          "name": "stdout"
        },
        {
          "output_type": "stream",
          "text": [
            "You provided a validation dataset but patience was set to None, meaning that early stopping is disabled\n",
            "  0%|          | 0/200 [00:00<?, ?it/s]"
          ],
          "name": "stderr"
        },
        {
          "output_type": "stream",
          "text": [
            "Starting training\n",
            "In model.forward(); printing here just because binder is so slow\n"
          ],
          "name": "stdout"
        },
        {
          "output_type": "stream",
          "text": [
            "batch_loss: 0.8308, loss: 0.8048 ||:   4%|4         | 8/200 [00:00<00:24,  7.97it/s]"
          ],
          "name": "stderr"
        },
        {
          "output_type": "stream",
          "text": [
            "In model.forward(); printing here just because binder is so slow\n",
            "In model.forward(); printing here just because binder is so slow\n",
            "In model.forward(); printing here just because binder is so slow\n",
            "In model.forward(); printing here just because binder is so slow\n",
            "In model.forward(); printing here just because binder is so slow\n",
            "In model.forward(); printing here just because binder is so slow\n",
            "In model.forward(); printing here just because binder is so slow\n",
            "In model.forward(); printing here just because binder is so slow\n"
          ],
          "name": "stdout"
        },
        {
          "output_type": "stream",
          "text": [
            "batch_loss: 0.6001, loss: 0.7323 ||:   8%|7         | 15/200 [00:00<00:14, 12.66it/s]"
          ],
          "name": "stderr"
        },
        {
          "output_type": "stream",
          "text": [
            "In model.forward(); printing here just because binder is so slow\n",
            "In model.forward(); printing here just because binder is so slow\n",
            "In model.forward(); printing here just because binder is so slow\n",
            "In model.forward(); printing here just because binder is so slow\n",
            "In model.forward(); printing here just because binder is so slow\n",
            "In model.forward(); printing here just because binder is so slow\n",
            "In model.forward(); printing here just because binder is so slow\n"
          ],
          "name": "stdout"
        },
        {
          "output_type": "stream",
          "text": [
            "\rbatch_loss: 0.7163, loss: 0.7139 ||:  10%|9         | 19/200 [00:00<00:11, 15.61it/s]"
          ],
          "name": "stderr"
        },
        {
          "output_type": "stream",
          "text": [
            "In model.forward(); printing here just because binder is so slow\n",
            "In model.forward(); printing here just because binder is so slow\n",
            "In model.forward(); printing here just because binder is so slow\n",
            "In model.forward(); printing here just because binder is so slow\n",
            "In model.forward(); printing here just because binder is so slow\n",
            "In model.forward(); printing here just because binder is so slow\n",
            "In model.forward(); printing here just because binder is so slow\n"
          ],
          "name": "stdout"
        },
        {
          "output_type": "stream",
          "text": [
            "batch_loss: 0.4764, loss: 0.6937 ||:  14%|#3        | 27/200 [00:01<00:07, 21.76it/s]"
          ],
          "name": "stderr"
        },
        {
          "output_type": "stream",
          "text": [
            "In model.forward(); printing here just because binder is so slow\n",
            "In model.forward(); printing here just because binder is so slow\n",
            "In model.forward(); printing here just because binder is so slow\n",
            "In model.forward(); printing here just because binder is so slow\n",
            "In model.forward(); printing here just because binder is so slow\n",
            "In model.forward(); printing here just because binder is so slow\n",
            "In model.forward(); printing here just because binder is so slow\n",
            "In model.forward(); printing here just because binder is so slow\n"
          ],
          "name": "stdout"
        },
        {
          "output_type": "stream",
          "text": [
            "batch_loss: 0.2903, loss: 0.6469 ||:  18%|#7        | 35/200 [00:01<00:06, 26.82it/s]"
          ],
          "name": "stderr"
        },
        {
          "output_type": "stream",
          "text": [
            "In model.forward(); printing here just because binder is so slow\n",
            "In model.forward(); printing here just because binder is so slow\n",
            "In model.forward(); printing here just because binder is so slow\n",
            "In model.forward(); printing here just because binder is so slow\n",
            "In model.forward(); printing here just because binder is so slow\n",
            "In model.forward(); printing here just because binder is so slow\n",
            "In model.forward(); printing here just because binder is so slow\n",
            "In model.forward(); printing here just because binder is so slow\n"
          ],
          "name": "stdout"
        },
        {
          "output_type": "stream",
          "text": [
            "batch_loss: 0.3928, loss: 0.6298 ||:  22%|##1       | 43/200 [00:01<00:05, 27.45it/s]"
          ],
          "name": "stderr"
        },
        {
          "output_type": "stream",
          "text": [
            "In model.forward(); printing here just because binder is so slow\n",
            "In model.forward(); printing here just because binder is so slow\n",
            "In model.forward(); printing here just because binder is so slow\n",
            "In model.forward(); printing here just because binder is so slow\n",
            "In model.forward(); printing here just because binder is so slow\n",
            "In model.forward(); printing here just because binder is so slow\n"
          ],
          "name": "stdout"
        },
        {
          "output_type": "stream",
          "text": [
            "batch_loss: 0.5146, loss: 0.6016 ||:  26%|##5       | 51/200 [00:01<00:04, 30.99it/s]"
          ],
          "name": "stderr"
        },
        {
          "output_type": "stream",
          "text": [
            "In model.forward(); printing here just because binder is so slow\n",
            "In model.forward(); printing here just because binder is so slow\n",
            "In model.forward(); printing here just because binder is so slow\n",
            "In model.forward(); printing here just because binder is so slow\n",
            "In model.forward(); printing here just because binder is so slow\n",
            "In model.forward(); printing here just because binder is so slow\n",
            "In model.forward(); printing here just because binder is so slow\n",
            "In model.forward(); printing here just because binder is so slow\n"
          ],
          "name": "stdout"
        },
        {
          "output_type": "stream",
          "text": [
            "batch_loss: 0.4625, loss: 0.5912 ||:  30%|##9       | 59/200 [00:02<00:04, 30.50it/s]"
          ],
          "name": "stderr"
        },
        {
          "output_type": "stream",
          "text": [
            "In model.forward(); printing here just because binder is so slow\n",
            "In model.forward(); printing here just because binder is so slow\n",
            "In model.forward(); printing here just because binder is so slow\n",
            "In model.forward(); printing here just because binder is so slow\n",
            "In model.forward(); printing here just because binder is so slow\n",
            "In model.forward(); printing here just because binder is so slow\n",
            "In model.forward(); printing here just because binder is so slow\n"
          ],
          "name": "stdout"
        },
        {
          "output_type": "stream",
          "text": [
            "\rbatch_loss: 0.5472, loss: 0.5859 ||:  32%|###2      | 64/200 [00:02<00:04, 32.36it/s]"
          ],
          "name": "stderr"
        },
        {
          "output_type": "stream",
          "text": [
            "In model.forward(); printing here just because binder is so slow\n",
            "In model.forward(); printing here just because binder is so slow\n",
            "In model.forward(); printing here just because binder is so slow\n",
            "In model.forward(); printing here just because binder is so slow\n",
            "In model.forward(); printing here just because binder is so slow\n",
            "In model.forward(); printing here just because binder is so slow\n",
            "In model.forward(); printing here just because binder is so slow\n"
          ],
          "name": "stdout"
        },
        {
          "output_type": "stream",
          "text": [
            "batch_loss: 0.3191, loss: 0.5625 ||:  36%|###6      | 72/200 [00:02<00:04, 30.07it/s]"
          ],
          "name": "stderr"
        },
        {
          "output_type": "stream",
          "text": [
            "In model.forward(); printing here just because binder is so slow\n",
            "In model.forward(); printing here just because binder is so slow\n",
            "In model.forward(); printing here just because binder is so slow\n",
            "In model.forward(); printing here just because binder is so slow\n",
            "In model.forward(); printing here just because binder is so slow\n",
            "In model.forward(); printing here just because binder is so slow\n"
          ],
          "name": "stdout"
        },
        {
          "output_type": "stream",
          "text": [
            "\rbatch_loss: 0.3387, loss: 0.5520 ||:  38%|###8      | 76/200 [00:02<00:04, 28.14it/s]"
          ],
          "name": "stderr"
        },
        {
          "output_type": "stream",
          "text": [
            "In model.forward(); printing here just because binder is so slow\n",
            "In model.forward(); printing here just because binder is so slow\n",
            "In model.forward(); printing here just because binder is so slow\n",
            "In model.forward(); printing here just because binder is so slow\n",
            "In model.forward(); printing here just because binder is so slow\n",
            "In model.forward(); printing here just because binder is so slow\n"
          ],
          "name": "stdout"
        },
        {
          "output_type": "stream",
          "text": [
            "batch_loss: 0.5717, loss: 0.5369 ||:  42%|####2     | 84/200 [00:02<00:03, 31.16it/s]"
          ],
          "name": "stderr"
        },
        {
          "output_type": "stream",
          "text": [
            "In model.forward(); printing here just because binder is so slow\n",
            "In model.forward(); printing here just because binder is so slow\n",
            "In model.forward(); printing here just because binder is so slow\n",
            "In model.forward(); printing here just because binder is so slow\n",
            "In model.forward(); printing here just because binder is so slow\n",
            "In model.forward(); printing here just because binder is so slow\n",
            "In model.forward(); printing here just because binder is so slow\n",
            "In model.forward(); printing here just because binder is so slow\n"
          ],
          "name": "stdout"
        },
        {
          "output_type": "stream",
          "text": [
            "batch_loss: 0.3854, loss: 0.5352 ||:  46%|####6     | 92/200 [00:03<00:03, 32.33it/s]"
          ],
          "name": "stderr"
        },
        {
          "output_type": "stream",
          "text": [
            "In model.forward(); printing here just because binder is so slow\n",
            "In model.forward(); printing here just because binder is so slow\n",
            "In model.forward(); printing here just because binder is so slow\n",
            "In model.forward(); printing here just because binder is so slow\n",
            "In model.forward(); printing here just because binder is so slow\n",
            "In model.forward(); printing here just because binder is so slow\n",
            "In model.forward(); printing here just because binder is so slow\n"
          ],
          "name": "stdout"
        },
        {
          "output_type": "stream",
          "text": [
            "batch_loss: 0.2817, loss: 0.5239 ||:  50%|#####     | 100/200 [00:03<00:03, 30.61it/s]"
          ],
          "name": "stderr"
        },
        {
          "output_type": "stream",
          "text": [
            "In model.forward(); printing here just because binder is so slow\n",
            "In model.forward(); printing here just because binder is so slow\n",
            "In model.forward(); printing here just because binder is so slow\n",
            "In model.forward(); printing here just because binder is so slow\n",
            "In model.forward(); printing here just because binder is so slow\n",
            "In model.forward(); printing here just because binder is so slow\n"
          ],
          "name": "stdout"
        },
        {
          "output_type": "stream",
          "text": [
            "\rbatch_loss: 0.5796, loss: 0.5180 ||:  52%|#####2    | 104/200 [00:03<00:03, 29.96it/s]"
          ],
          "name": "stderr"
        },
        {
          "output_type": "stream",
          "text": [
            "In model.forward(); printing here just because binder is so slow\n",
            "In model.forward(); printing here just because binder is so slow\n",
            "In model.forward(); printing here just because binder is so slow\n",
            "In model.forward(); printing here just because binder is so slow\n",
            "In model.forward(); printing here just because binder is so slow\n",
            "In model.forward(); printing here just because binder is so slow\n",
            "In model.forward(); printing here just because binder is so slow\n"
          ],
          "name": "stdout"
        },
        {
          "output_type": "stream",
          "text": [
            "batch_loss: 0.2104, loss: 0.5096 ||:  56%|#####6    | 112/200 [00:03<00:02, 30.79it/s]"
          ],
          "name": "stderr"
        },
        {
          "output_type": "stream",
          "text": [
            "In model.forward(); printing here just because binder is so slow\n",
            "In model.forward(); printing here just because binder is so slow\n",
            "In model.forward(); printing here just because binder is so slow\n",
            "In model.forward(); printing here just because binder is so slow\n",
            "In model.forward(); printing here just because binder is so slow\n",
            "In model.forward(); printing here just because binder is so slow\n",
            "In model.forward(); printing here just because binder is so slow\n"
          ],
          "name": "stdout"
        },
        {
          "output_type": "stream",
          "text": [
            "batch_loss: 0.2588, loss: 0.5002 ||:  60%|######    | 120/200 [00:03<00:02, 32.54it/s]"
          ],
          "name": "stderr"
        },
        {
          "output_type": "stream",
          "text": [
            "In model.forward(); printing here just because binder is so slow\n",
            "In model.forward(); printing here just because binder is so slow\n",
            "In model.forward(); printing here just because binder is so slow\n",
            "In model.forward(); printing here just because binder is so slow\n",
            "In model.forward(); printing here just because binder is so slow\n",
            "In model.forward(); printing here just because binder is so slow\n",
            "In model.forward(); printing here just because binder is so slow\n",
            "In model.forward(); printing here just because binder is so slow\n"
          ],
          "name": "stdout"
        },
        {
          "output_type": "stream",
          "text": [
            "batch_loss: 0.2832, loss: 0.4914 ||:  64%|######4   | 128/200 [00:04<00:02, 35.14it/s]"
          ],
          "name": "stderr"
        },
        {
          "output_type": "stream",
          "text": [
            "In model.forward(); printing here just because binder is so slow\n",
            "In model.forward(); printing here just because binder is so slow\n",
            "In model.forward(); printing here just because binder is so slow\n",
            "In model.forward(); printing here just because binder is so slow\n",
            "In model.forward(); printing here just because binder is so slow\n",
            "In model.forward(); printing here just because binder is so slow\n",
            "In model.forward(); printing here just because binder is so slow\n",
            "In model.forward(); printing here just because binder is so slow\n"
          ],
          "name": "stdout"
        },
        {
          "output_type": "stream",
          "text": [
            "batch_loss: 0.7671, loss: 0.4845 ||:  68%|######8   | 136/200 [00:04<00:01, 33.52it/s]"
          ],
          "name": "stderr"
        },
        {
          "output_type": "stream",
          "text": [
            "In model.forward(); printing here just because binder is so slow\n",
            "In model.forward(); printing here just because binder is so slow\n",
            "In model.forward(); printing here just because binder is so slow\n",
            "In model.forward(); printing here just because binder is so slow\n",
            "In model.forward(); printing here just because binder is so slow\n",
            "In model.forward(); printing here just because binder is so slow\n",
            "In model.forward(); printing here just because binder is so slow\n"
          ],
          "name": "stdout"
        },
        {
          "output_type": "stream",
          "text": [
            "\rbatch_loss: 0.2729, loss: 0.4829 ||:  70%|#######   | 140/200 [00:04<00:01, 33.57it/s]"
          ],
          "name": "stderr"
        },
        {
          "output_type": "stream",
          "text": [
            "In model.forward(); printing here just because binder is so slow\n",
            "In model.forward(); printing here just because binder is so slow\n",
            "In model.forward(); printing here just because binder is so slow\n",
            "In model.forward(); printing here just because binder is so slow\n",
            "In model.forward(); printing here just because binder is so slow\n",
            "In model.forward(); printing here just because binder is so slow\n",
            "In model.forward(); printing here just because binder is so slow\n"
          ],
          "name": "stdout"
        },
        {
          "output_type": "stream",
          "text": [
            "batch_loss: 0.4389, loss: 0.4800 ||:  74%|#######4  | 148/200 [00:04<00:01, 32.74it/s]"
          ],
          "name": "stderr"
        },
        {
          "output_type": "stream",
          "text": [
            "In model.forward(); printing here just because binder is so slow\n",
            "In model.forward(); printing here just because binder is so slow\n",
            "In model.forward(); printing here just because binder is so slow\n",
            "In model.forward(); printing here just because binder is so slow\n",
            "In model.forward(); printing here just because binder is so slow\n",
            "In model.forward(); printing here just because binder is so slow\n",
            "In model.forward(); printing here just because binder is so slow\n"
          ],
          "name": "stdout"
        },
        {
          "output_type": "stream",
          "text": [
            "batch_loss: 0.1332, loss: 0.4731 ||:  78%|#######8  | 156/200 [00:05<00:01, 33.39it/s]"
          ],
          "name": "stderr"
        },
        {
          "output_type": "stream",
          "text": [
            "In model.forward(); printing here just because binder is so slow\n",
            "In model.forward(); printing here just because binder is so slow\n",
            "In model.forward(); printing here just because binder is so slow\n",
            "In model.forward(); printing here just because binder is so slow\n",
            "In model.forward(); printing here just because binder is so slow\n",
            "In model.forward(); printing here just because binder is so slow\n",
            "In model.forward(); printing here just because binder is so slow\n",
            "In model.forward(); printing here just because binder is so slow\n"
          ],
          "name": "stdout"
        },
        {
          "output_type": "stream",
          "text": [
            "batch_loss: 0.3594, loss: 0.4723 ||:  82%|########2 | 164/200 [00:05<00:01, 33.12it/s]"
          ],
          "name": "stderr"
        },
        {
          "output_type": "stream",
          "text": [
            "In model.forward(); printing here just because binder is so slow\n",
            "In model.forward(); printing here just because binder is so slow\n",
            "In model.forward(); printing here just because binder is so slow\n",
            "In model.forward(); printing here just because binder is so slow\n",
            "In model.forward(); printing here just because binder is so slow\n",
            "In model.forward(); printing here just because binder is so slow\n",
            "In model.forward(); printing here just because binder is so slow\n"
          ],
          "name": "stdout"
        },
        {
          "output_type": "stream",
          "text": [
            "batch_loss: 0.5715, loss: 0.4679 ||:  86%|########6 | 172/200 [00:05<00:00, 35.09it/s]"
          ],
          "name": "stderr"
        },
        {
          "output_type": "stream",
          "text": [
            "In model.forward(); printing here just because binder is so slow\n",
            "In model.forward(); printing here just because binder is so slow\n",
            "In model.forward(); printing here just because binder is so slow\n",
            "In model.forward(); printing here just because binder is so slow\n",
            "In model.forward(); printing here just because binder is so slow\n",
            "In model.forward(); printing here just because binder is so slow\n",
            "In model.forward(); printing here just because binder is so slow\n"
          ],
          "name": "stdout"
        },
        {
          "output_type": "stream",
          "text": [
            "\rbatch_loss: 0.1554, loss: 0.4635 ||:  88%|########8 | 176/200 [00:05<00:00, 32.44it/s]"
          ],
          "name": "stderr"
        },
        {
          "output_type": "stream",
          "text": [
            "In model.forward(); printing here just because binder is so slow\n",
            "In model.forward(); printing here just because binder is so slow\n",
            "In model.forward(); printing here just because binder is so slow\n",
            "In model.forward(); printing here just because binder is so slow\n",
            "In model.forward(); printing here just because binder is so slow\n",
            "In model.forward(); printing here just because binder is so slow\n",
            "In model.forward(); printing here just because binder is so slow\n"
          ],
          "name": "stdout"
        },
        {
          "output_type": "stream",
          "text": [
            "batch_loss: 0.3699, loss: 0.4582 ||:  92%|#########2| 184/200 [00:05<00:00, 32.75it/s]"
          ],
          "name": "stderr"
        },
        {
          "output_type": "stream",
          "text": [
            "In model.forward(); printing here just because binder is so slow\n",
            "In model.forward(); printing here just because binder is so slow\n",
            "In model.forward(); printing here just because binder is so slow\n",
            "In model.forward(); printing here just because binder is so slow\n",
            "In model.forward(); printing here just because binder is so slow\n",
            "In model.forward(); printing here just because binder is so slow\n",
            "In model.forward(); printing here just because binder is so slow\n",
            "In model.forward(); printing here just because binder is so slow\n"
          ],
          "name": "stdout"
        },
        {
          "output_type": "stream",
          "text": [
            "batch_loss: 0.5061, loss: 0.4576 ||:  96%|#########6| 193/200 [00:06<00:00, 35.98it/s]"
          ],
          "name": "stderr"
        },
        {
          "output_type": "stream",
          "text": [
            "In model.forward(); printing here just because binder is so slow\n",
            "In model.forward(); printing here just because binder is so slow\n",
            "In model.forward(); printing here just because binder is so slow\n",
            "In model.forward(); printing here just because binder is so slow\n",
            "In model.forward(); printing here just because binder is so slow\n",
            "In model.forward(); printing here just because binder is so slow\n",
            "In model.forward(); printing here just because binder is so slow\n",
            "In model.forward(); printing here just because binder is so slow\n"
          ],
          "name": "stdout"
        },
        {
          "output_type": "stream",
          "text": [
            "batch_loss: 0.1582, loss: 0.4542 ||: 100%|##########| 200/200 [00:06<00:00, 31.84it/s]\n",
            "batch_loss: 0.2125, loss: 0.3727 ||: 100%|##########| 25/25 [00:00<00:00, 411.20it/s]\n",
            "  0%|          | 0/200 [00:00<?, ?it/s]"
          ],
          "name": "stderr"
        },
        {
          "output_type": "stream",
          "text": [
            "In model.forward(); printing here just because binder is so slow\n",
            "In model.forward(); printing here just because binder is so slow\n",
            "In model.forward(); printing here just because binder is so slow\n",
            "In model.forward(); printing here just because binder is so slow\n",
            "In model.forward(); printing here just because binder is so slow\n",
            "In model.forward(); printing here just because binder is so slow\n",
            "In model.forward(); printing here just because binder is so slow\n",
            "In model.forward(); printing here just because binder is so slow\n",
            "In model.forward(); printing here just because binder is so slow\n",
            "In model.forward(); printing here just because binder is so slow\n",
            "In model.forward(); printing here just because binder is so slow\n",
            "In model.forward(); printing here just because binder is so slow\n",
            "In model.forward(); printing here just because binder is so slow\n",
            "In model.forward(); printing here just because binder is so slow\n",
            "In model.forward(); printing here just because binder is so slow\n",
            "In model.forward(); printing here just because binder is so slow\n",
            "In model.forward(); printing here just because binder is so slow\n",
            "In model.forward(); printing here just because binder is so slow\n",
            "In model.forward(); printing here just because binder is so slow\n",
            "In model.forward(); printing here just because binder is so slow\n",
            "In model.forward(); printing here just because binder is so slow\n",
            "In model.forward(); printing here just because binder is so slow\n",
            "In model.forward(); printing here just because binder is so slow\n",
            "In model.forward(); printing here just because binder is so slow\n",
            "In model.forward(); printing here just because binder is so slow\n",
            "In model.forward(); printing here just because binder is so slow\n",
            "In model.forward(); printing here just because binder is so slow\n",
            "In model.forward(); printing here just because binder is so slow\n",
            "In model.forward(); printing here just because binder is so slow\n",
            "In model.forward(); printing here just because binder is so slow\n"
          ],
          "name": "stdout"
        },
        {
          "output_type": "stream",
          "text": [
            "batch_loss: 0.0281, loss: 0.0444 ||:   4%|3         | 7/200 [00:00<00:06, 31.53it/s]"
          ],
          "name": "stderr"
        },
        {
          "output_type": "stream",
          "text": [
            "In model.forward(); printing here just because binder is so slow\n",
            "In model.forward(); printing here just because binder is so slow\n",
            "In model.forward(); printing here just because binder is so slow\n",
            "In model.forward(); printing here just because binder is so slow\n",
            "In model.forward(); printing here just because binder is so slow\n",
            "In model.forward(); printing here just because binder is so slow\n",
            "In model.forward(); printing here just because binder is so slow\n"
          ],
          "name": "stdout"
        },
        {
          "output_type": "stream",
          "text": [
            "batch_loss: 0.0217, loss: 0.0575 ||:   7%|7         | 14/200 [00:00<00:05, 32.37it/s]"
          ],
          "name": "stderr"
        },
        {
          "output_type": "stream",
          "text": [
            "In model.forward(); printing here just because binder is so slow\n",
            "In model.forward(); printing here just because binder is so slow\n",
            "In model.forward(); printing here just because binder is so slow\n",
            "In model.forward(); printing here just because binder is so slow\n",
            "In model.forward(); printing here just because binder is so slow\n",
            "In model.forward(); printing here just because binder is so slow\n",
            "In model.forward(); printing here just because binder is so slow\n",
            "In model.forward(); printing here just because binder is so slow\n"
          ],
          "name": "stdout"
        },
        {
          "output_type": "stream",
          "text": [
            "batch_loss: 0.0540, loss: 0.0518 ||:  11%|#1        | 22/200 [00:00<00:05, 34.66it/s]"
          ],
          "name": "stderr"
        },
        {
          "output_type": "stream",
          "text": [
            "In model.forward(); printing here just because binder is so slow\n",
            "In model.forward(); printing here just because binder is so slow\n",
            "In model.forward(); printing here just because binder is so slow\n",
            "In model.forward(); printing here just because binder is so slow\n",
            "In model.forward(); printing here just because binder is so slow\n",
            "In model.forward(); printing here just because binder is so slow\n",
            "In model.forward(); printing here just because binder is so slow\n",
            "In model.forward(); printing here just because binder is so slow\n"
          ],
          "name": "stdout"
        },
        {
          "output_type": "stream",
          "text": [
            "\rbatch_loss: 0.0091, loss: 0.0513 ||:  13%|#3        | 26/200 [00:00<00:04, 35.15it/s]"
          ],
          "name": "stderr"
        },
        {
          "output_type": "stream",
          "text": [
            "In model.forward(); printing here just because binder is so slow\n",
            "In model.forward(); printing here just because binder is so slow\n",
            "In model.forward(); printing here just because binder is so slow\n",
            "In model.forward(); printing here just because binder is so slow\n",
            "In model.forward(); printing here just because binder is so slow\n",
            "In model.forward(); printing here just because binder is so slow\n"
          ],
          "name": "stdout"
        },
        {
          "output_type": "stream",
          "text": [
            "batch_loss: 0.0316, loss: 0.0488 ||:  17%|#7        | 34/200 [00:01<00:05, 32.49it/s]"
          ],
          "name": "stderr"
        },
        {
          "output_type": "stream",
          "text": [
            "In model.forward(); printing here just because binder is so slow\n",
            "In model.forward(); printing here just because binder is so slow\n",
            "In model.forward(); printing here just because binder is so slow\n",
            "In model.forward(); printing here just because binder is so slow\n",
            "In model.forward(); printing here just because binder is so slow\n",
            "In model.forward(); printing here just because binder is so slow\n",
            "In model.forward(); printing here just because binder is so slow\n",
            "In model.forward(); printing here just because binder is so slow\n"
          ],
          "name": "stdout"
        },
        {
          "output_type": "stream",
          "text": [
            "batch_loss: 0.0182, loss: 0.0519 ||:  21%|##1       | 42/200 [00:01<00:04, 34.08it/s]"
          ],
          "name": "stderr"
        },
        {
          "output_type": "stream",
          "text": [
            "In model.forward(); printing here just because binder is so slow\n",
            "In model.forward(); printing here just because binder is so slow\n",
            "In model.forward(); printing here just because binder is so slow\n",
            "In model.forward(); printing here just because binder is so slow\n",
            "In model.forward(); printing here just because binder is so slow\n",
            "In model.forward(); printing here just because binder is so slow\n",
            "In model.forward(); printing here just because binder is so slow\n",
            "In model.forward(); printing here just because binder is so slow\n"
          ],
          "name": "stdout"
        },
        {
          "output_type": "stream",
          "text": [
            "batch_loss: 0.0302, loss: 0.0478 ||:  25%|##5       | 50/200 [00:01<00:04, 32.12it/s]"
          ],
          "name": "stderr"
        },
        {
          "output_type": "stream",
          "text": [
            "In model.forward(); printing here just because binder is so slow\n",
            "In model.forward(); printing here just because binder is so slow\n",
            "In model.forward(); printing here just because binder is so slow\n",
            "In model.forward(); printing here just because binder is so slow\n",
            "In model.forward(); printing here just because binder is so slow\n",
            "In model.forward(); printing here just because binder is so slow\n"
          ],
          "name": "stdout"
        },
        {
          "output_type": "stream",
          "text": [
            "batch_loss: 0.0253, loss: 0.0490 ||:  29%|##9       | 58/200 [00:01<00:04, 33.18it/s]"
          ],
          "name": "stderr"
        },
        {
          "output_type": "stream",
          "text": [
            "In model.forward(); printing here just because binder is so slow\n",
            "In model.forward(); printing here just because binder is so slow\n",
            "In model.forward(); printing here just because binder is so slow\n",
            "In model.forward(); printing here just because binder is so slow\n",
            "In model.forward(); printing here just because binder is so slow\n",
            "In model.forward(); printing here just because binder is so slow\n",
            "In model.forward(); printing here just because binder is so slow\n"
          ],
          "name": "stdout"
        },
        {
          "output_type": "stream",
          "text": [
            "\rbatch_loss: 0.0162, loss: 0.0489 ||:  31%|###1      | 62/200 [00:01<00:04, 32.73it/s]"
          ],
          "name": "stderr"
        },
        {
          "output_type": "stream",
          "text": [
            "In model.forward(); printing here just because binder is so slow\n",
            "In model.forward(); printing here just because binder is so slow\n",
            "In model.forward(); printing here just because binder is so slow\n",
            "In model.forward(); printing here just because binder is so slow\n",
            "In model.forward(); printing here just because binder is so slow\n",
            "In model.forward(); printing here just because binder is so slow\n",
            "In model.forward(); printing here just because binder is so slow\n"
          ],
          "name": "stdout"
        },
        {
          "output_type": "stream",
          "text": [
            "batch_loss: 0.0515, loss: 0.0472 ||:  35%|###5      | 70/200 [00:02<00:04, 29.63it/s]"
          ],
          "name": "stderr"
        },
        {
          "output_type": "stream",
          "text": [
            "In model.forward(); printing here just because binder is so slow\n",
            "In model.forward(); printing here just because binder is so slow\n",
            "In model.forward(); printing here just because binder is so slow\n",
            "In model.forward(); printing here just because binder is so slow\n",
            "In model.forward(); printing here just because binder is so slow\n",
            "In model.forward(); printing here just because binder is so slow\n",
            "In model.forward(); printing here just because binder is so slow\n"
          ],
          "name": "stdout"
        },
        {
          "output_type": "stream",
          "text": [
            "batch_loss: 0.0060, loss: 0.0466 ||:  39%|###9      | 78/200 [00:02<00:03, 31.44it/s]"
          ],
          "name": "stderr"
        },
        {
          "output_type": "stream",
          "text": [
            "In model.forward(); printing here just because binder is so slow\n",
            "In model.forward(); printing here just because binder is so slow\n",
            "In model.forward(); printing here just because binder is so slow\n",
            "In model.forward(); printing here just because binder is so slow\n",
            "In model.forward(); printing here just because binder is so slow\n",
            "In model.forward(); printing here just because binder is so slow\n",
            "In model.forward(); printing here just because binder is so slow\n"
          ],
          "name": "stdout"
        },
        {
          "output_type": "stream",
          "text": [
            "batch_loss: 0.0030, loss: 0.0460 ||:  43%|####3     | 86/200 [00:02<00:03, 30.96it/s]"
          ],
          "name": "stderr"
        },
        {
          "output_type": "stream",
          "text": [
            "In model.forward(); printing here just because binder is so slow\n",
            "In model.forward(); printing here just because binder is so slow\n",
            "In model.forward(); printing here just because binder is so slow\n",
            "In model.forward(); printing here just because binder is so slow\n",
            "In model.forward(); printing here just because binder is so slow\n",
            "In model.forward(); printing here just because binder is so slow\n",
            "In model.forward(); printing here just because binder is so slow\n"
          ],
          "name": "stdout"
        },
        {
          "output_type": "stream",
          "text": [
            "\rbatch_loss: 0.0335, loss: 0.0453 ||:  45%|####5     | 90/200 [00:02<00:03, 30.96it/s]"
          ],
          "name": "stderr"
        },
        {
          "output_type": "stream",
          "text": [
            "In model.forward(); printing here just because binder is so slow\n",
            "In model.forward(); printing here just because binder is so slow\n",
            "In model.forward(); printing here just because binder is so slow\n",
            "In model.forward(); printing here just because binder is so slow\n",
            "In model.forward(); printing here just because binder is so slow\n",
            "In model.forward(); printing here just because binder is so slow\n",
            "In model.forward(); printing here just because binder is so slow\n"
          ],
          "name": "stdout"
        },
        {
          "output_type": "stream",
          "text": [
            "batch_loss: 0.0468, loss: 0.0479 ||:  49%|####9     | 98/200 [00:03<00:03, 30.53it/s]"
          ],
          "name": "stderr"
        },
        {
          "output_type": "stream",
          "text": [
            "In model.forward(); printing here just because binder is so slow\n",
            "In model.forward(); printing here just because binder is so slow\n",
            "In model.forward(); printing here just because binder is so slow\n",
            "In model.forward(); printing here just because binder is so slow\n",
            "In model.forward(); printing here just because binder is so slow\n",
            "In model.forward(); printing here just because binder is so slow\n"
          ],
          "name": "stdout"
        },
        {
          "output_type": "stream",
          "text": [
            "batch_loss: 0.0125, loss: 0.0468 ||:  53%|#####3    | 106/200 [00:03<00:03, 30.56it/s]"
          ],
          "name": "stderr"
        },
        {
          "output_type": "stream",
          "text": [
            "In model.forward(); printing here just because binder is so slow\n",
            "In model.forward(); printing here just because binder is so slow\n",
            "In model.forward(); printing here just because binder is so slow\n",
            "In model.forward(); printing here just because binder is so slow\n",
            "In model.forward(); printing here just because binder is so slow\n",
            "In model.forward(); printing here just because binder is so slow\n",
            "In model.forward(); printing here just because binder is so slow\n"
          ],
          "name": "stdout"
        },
        {
          "output_type": "stream",
          "text": [
            "batch_loss: 0.1071, loss: 0.0469 ||:  57%|#####6    | 114/200 [00:03<00:02, 32.28it/s]"
          ],
          "name": "stderr"
        },
        {
          "output_type": "stream",
          "text": [
            "In model.forward(); printing here just because binder is so slow\n",
            "In model.forward(); printing here just because binder is so slow\n",
            "In model.forward(); printing here just because binder is so slow\n",
            "In model.forward(); printing here just because binder is so slow\n",
            "In model.forward(); printing here just because binder is so slow\n",
            "In model.forward(); printing here just because binder is so slow\n",
            "In model.forward(); printing here just because binder is so slow\n",
            "In model.forward(); printing here just because binder is so slow\n"
          ],
          "name": "stdout"
        },
        {
          "output_type": "stream",
          "text": [
            "\rbatch_loss: 0.0126, loss: 0.0466 ||:  59%|#####8    | 118/200 [00:03<00:02, 33.74it/s]"
          ],
          "name": "stderr"
        },
        {
          "output_type": "stream",
          "text": [
            "In model.forward(); printing here just because binder is so slow\n",
            "In model.forward(); printing here just because binder is so slow\n",
            "In model.forward(); printing here just because binder is so slow\n",
            "In model.forward(); printing here just because binder is so slow\n",
            "In model.forward(); printing here just because binder is so slow\n",
            "In model.forward(); printing here just because binder is so slow\n",
            "In model.forward(); printing here just because binder is so slow\n"
          ],
          "name": "stdout"
        },
        {
          "output_type": "stream",
          "text": [
            "batch_loss: 0.0052, loss: 0.0458 ||:  63%|######3   | 126/200 [00:03<00:02, 32.51it/s]"
          ],
          "name": "stderr"
        },
        {
          "output_type": "stream",
          "text": [
            "In model.forward(); printing here just because binder is so slow\n",
            "In model.forward(); printing here just because binder is so slow\n",
            "In model.forward(); printing here just because binder is so slow\n",
            "In model.forward(); printing here just because binder is so slow\n",
            "In model.forward(); printing here just because binder is so slow\n",
            "In model.forward(); printing here just because binder is so slow\n",
            "In model.forward(); printing here just because binder is so slow\n"
          ],
          "name": "stdout"
        },
        {
          "output_type": "stream",
          "text": [
            "batch_loss: 0.0226, loss: 0.0450 ||:  67%|######7   | 134/200 [00:04<00:02, 32.33it/s]"
          ],
          "name": "stderr"
        },
        {
          "output_type": "stream",
          "text": [
            "In model.forward(); printing here just because binder is so slow\n",
            "In model.forward(); printing here just because binder is so slow\n",
            "In model.forward(); printing here just because binder is so slow\n",
            "In model.forward(); printing here just because binder is so slow\n",
            "In model.forward(); printing here just because binder is so slow\n",
            "In model.forward(); printing here just because binder is so slow\n",
            "In model.forward(); printing here just because binder is so slow\n"
          ],
          "name": "stdout"
        },
        {
          "output_type": "stream",
          "text": [
            "batch_loss: 0.0157, loss: 0.0445 ||:  71%|#######1  | 142/200 [00:04<00:01, 33.77it/s]"
          ],
          "name": "stderr"
        },
        {
          "output_type": "stream",
          "text": [
            "In model.forward(); printing here just because binder is so slow\n",
            "In model.forward(); printing here just because binder is so slow\n",
            "In model.forward(); printing here just because binder is so slow\n",
            "In model.forward(); printing here just because binder is so slow\n",
            "In model.forward(); printing here just because binder is so slow\n",
            "In model.forward(); printing here just because binder is so slow\n",
            "In model.forward(); printing here just because binder is so slow\n",
            "In model.forward(); printing here just because binder is so slow\n"
          ],
          "name": "stdout"
        },
        {
          "output_type": "stream",
          "text": [
            "batch_loss: 0.0072, loss: 0.0444 ||:  75%|#######5  | 150/200 [00:04<00:01, 33.35it/s]"
          ],
          "name": "stderr"
        },
        {
          "output_type": "stream",
          "text": [
            "In model.forward(); printing here just because binder is so slow\n",
            "In model.forward(); printing here just because binder is so slow\n",
            "In model.forward(); printing here just because binder is so slow\n",
            "In model.forward(); printing here just because binder is so slow\n",
            "In model.forward(); printing here just because binder is so slow\n",
            "In model.forward(); printing here just because binder is so slow\n",
            "In model.forward(); printing here just because binder is so slow\n"
          ],
          "name": "stdout"
        },
        {
          "output_type": "stream",
          "text": [
            "batch_loss: 0.0013, loss: 0.0431 ||:  79%|#######9  | 158/200 [00:04<00:01, 35.13it/s]"
          ],
          "name": "stderr"
        },
        {
          "output_type": "stream",
          "text": [
            "In model.forward(); printing here just because binder is so slow\n",
            "In model.forward(); printing here just because binder is so slow\n",
            "In model.forward(); printing here just because binder is so slow\n",
            "In model.forward(); printing here just because binder is so slow\n",
            "In model.forward(); printing here just because binder is so slow\n",
            "In model.forward(); printing here just because binder is so slow\n",
            "In model.forward(); printing here just because binder is so slow\n",
            "In model.forward(); printing here just because binder is so slow\n"
          ],
          "name": "stdout"
        },
        {
          "output_type": "stream",
          "text": [
            "batch_loss: 0.0248, loss: 0.0424 ||:  83%|########2 | 166/200 [00:05<00:00, 35.64it/s]"
          ],
          "name": "stderr"
        },
        {
          "output_type": "stream",
          "text": [
            "In model.forward(); printing here just because binder is so slow\n",
            "In model.forward(); printing here just because binder is so slow\n",
            "In model.forward(); printing here just because binder is so slow\n",
            "In model.forward(); printing here just because binder is so slow\n",
            "In model.forward(); printing here just because binder is so slow\n",
            "In model.forward(); printing here just because binder is so slow\n",
            "In model.forward(); printing here just because binder is so slow\n",
            "In model.forward(); printing here just because binder is so slow\n"
          ],
          "name": "stdout"
        },
        {
          "output_type": "stream",
          "text": [
            "batch_loss: 0.0214, loss: 0.0418 ||:  87%|########7 | 174/200 [00:05<00:00, 37.12it/s]"
          ],
          "name": "stderr"
        },
        {
          "output_type": "stream",
          "text": [
            "In model.forward(); printing here just because binder is so slow\n",
            "In model.forward(); printing here just because binder is so slow\n",
            "In model.forward(); printing here just because binder is so slow\n",
            "In model.forward(); printing here just because binder is so slow\n",
            "In model.forward(); printing here just because binder is so slow\n",
            "In model.forward(); printing here just because binder is so slow\n",
            "In model.forward(); printing here just because binder is so slow\n",
            "In model.forward(); printing here just because binder is so slow\n"
          ],
          "name": "stdout"
        },
        {
          "output_type": "stream",
          "text": [
            "\rbatch_loss: 0.0791, loss: 0.0418 ||:  89%|########9 | 178/200 [00:05<00:00, 36.27it/s]"
          ],
          "name": "stderr"
        },
        {
          "output_type": "stream",
          "text": [
            "In model.forward(); printing here just because binder is so slow\n",
            "In model.forward(); printing here just because binder is so slow\n",
            "In model.forward(); printing here just because binder is so slow\n",
            "In model.forward(); printing here just because binder is so slow\n",
            "In model.forward(); printing here just because binder is so slow\n",
            "In model.forward(); printing here just because binder is so slow\n",
            "In model.forward(); printing here just because binder is so slow\n"
          ],
          "name": "stdout"
        },
        {
          "output_type": "stream",
          "text": [
            "batch_loss: 0.0097, loss: 0.0404 ||:  93%|#########3| 186/200 [00:05<00:00, 32.90it/s]"
          ],
          "name": "stderr"
        },
        {
          "output_type": "stream",
          "text": [
            "In model.forward(); printing here just because binder is so slow\n",
            "In model.forward(); printing here just because binder is so slow\n",
            "In model.forward(); printing here just because binder is so slow\n",
            "In model.forward(); printing here just because binder is so slow\n",
            "In model.forward(); printing here just because binder is so slow\n",
            "In model.forward(); printing here just because binder is so slow\n",
            "In model.forward(); printing here just because binder is so slow\n"
          ],
          "name": "stdout"
        },
        {
          "output_type": "stream",
          "text": [
            "batch_loss: 0.0445, loss: 0.0412 ||:  97%|#########7| 194/200 [00:05<00:00, 34.47it/s]"
          ],
          "name": "stderr"
        },
        {
          "output_type": "stream",
          "text": [
            "In model.forward(); printing here just because binder is so slow\n",
            "In model.forward(); printing here just because binder is so slow\n",
            "In model.forward(); printing here just because binder is so slow\n",
            "In model.forward(); printing here just because binder is so slow\n",
            "In model.forward(); printing here just because binder is so slow\n",
            "In model.forward(); printing here just because binder is so slow\n",
            "In model.forward(); printing here just because binder is so slow\n"
          ],
          "name": "stdout"
        },
        {
          "output_type": "stream",
          "text": [
            "batch_loss: 0.0056, loss: 0.0412 ||: 100%|##########| 200/200 [00:06<00:00, 32.82it/s]\n",
            "batch_loss: 0.0515, loss: 0.4654 ||: 100%|##########| 25/25 [00:00<00:00, 436.53it/s]\n",
            "  0%|          | 0/200 [00:00<?, ?it/s]"
          ],
          "name": "stderr"
        },
        {
          "output_type": "stream",
          "text": [
            "In model.forward(); printing here just because binder is so slow\n",
            "In model.forward(); printing here just because binder is so slow\n",
            "In model.forward(); printing here just because binder is so slow\n",
            "In model.forward(); printing here just because binder is so slow\n",
            "In model.forward(); printing here just because binder is so slow\n",
            "In model.forward(); printing here just because binder is so slow\n",
            "In model.forward(); printing here just because binder is so slow\n",
            "In model.forward(); printing here just because binder is so slow\n",
            "In model.forward(); printing here just because binder is so slow\n",
            "In model.forward(); printing here just because binder is so slow\n",
            "In model.forward(); printing here just because binder is so slow\n",
            "In model.forward(); printing here just because binder is so slow\n",
            "In model.forward(); printing here just because binder is so slow\n",
            "In model.forward(); printing here just because binder is so slow\n",
            "In model.forward(); printing here just because binder is so slow\n",
            "In model.forward(); printing here just because binder is so slow\n",
            "In model.forward(); printing here just because binder is so slow\n",
            "In model.forward(); printing here just because binder is so slow\n",
            "In model.forward(); printing here just because binder is so slow\n",
            "In model.forward(); printing here just because binder is so slow\n",
            "In model.forward(); printing here just because binder is so slow\n",
            "In model.forward(); printing here just because binder is so slow\n",
            "In model.forward(); printing here just because binder is so slow\n",
            "In model.forward(); printing here just because binder is so slow\n",
            "In model.forward(); printing here just because binder is so slow\n",
            "In model.forward(); printing here just because binder is so slow\n",
            "In model.forward(); printing here just because binder is so slow\n",
            "In model.forward(); printing here just because binder is so slow\n",
            "In model.forward(); printing here just because binder is so slow\n",
            "In model.forward(); printing here just because binder is so slow\n"
          ],
          "name": "stdout"
        },
        {
          "output_type": "stream",
          "text": [
            "batch_loss: 0.0682, loss: 0.0205 ||:   4%|4         | 9/200 [00:00<00:05, 37.43it/s]"
          ],
          "name": "stderr"
        },
        {
          "output_type": "stream",
          "text": [
            "In model.forward(); printing here just because binder is so slow\n",
            "In model.forward(); printing here just because binder is so slow\n",
            "In model.forward(); printing here just because binder is so slow\n",
            "In model.forward(); printing here just because binder is so slow\n",
            "In model.forward(); printing here just because binder is so slow\n",
            "In model.forward(); printing here just because binder is so slow\n",
            "In model.forward(); printing here just because binder is so slow\n",
            "In model.forward(); printing here just because binder is so slow\n",
            "In model.forward(); printing here just because binder is so slow\n"
          ],
          "name": "stdout"
        },
        {
          "output_type": "stream",
          "text": [
            "\rbatch_loss: 0.0088, loss: 0.0170 ||:   6%|6         | 13/200 [00:00<00:05, 35.95it/s]"
          ],
          "name": "stderr"
        },
        {
          "output_type": "stream",
          "text": [
            "In model.forward(); printing here just because binder is so slow\n",
            "In model.forward(); printing here just because binder is so slow\n",
            "In model.forward(); printing here just because binder is so slow\n",
            "In model.forward(); printing here just because binder is so slow\n",
            "In model.forward(); printing here just because binder is so slow\n",
            "In model.forward(); printing here just because binder is so slow\n",
            "In model.forward(); printing here just because binder is so slow\n"
          ],
          "name": "stdout"
        },
        {
          "output_type": "stream",
          "text": [
            "batch_loss: 0.0032, loss: 0.0140 ||:  10%|#         | 20/200 [00:00<00:05, 33.33it/s]"
          ],
          "name": "stderr"
        },
        {
          "output_type": "stream",
          "text": [
            "In model.forward(); printing here just because binder is so slow\n",
            "In model.forward(); printing here just because binder is so slow\n",
            "In model.forward(); printing here just because binder is so slow\n",
            "In model.forward(); printing here just because binder is so slow\n",
            "In model.forward(); printing here just because binder is so slow\n",
            "In model.forward(); printing here just because binder is so slow\n",
            "In model.forward(); printing here just because binder is so slow\n"
          ],
          "name": "stdout"
        },
        {
          "output_type": "stream",
          "text": [
            "batch_loss: 0.0215, loss: 0.0148 ||:  14%|#4        | 28/200 [00:00<00:04, 34.72it/s]"
          ],
          "name": "stderr"
        },
        {
          "output_type": "stream",
          "text": [
            "In model.forward(); printing here just because binder is so slow\n",
            "In model.forward(); printing here just because binder is so slow\n",
            "In model.forward(); printing here just because binder is so slow\n",
            "In model.forward(); printing here just because binder is so slow\n",
            "In model.forward(); printing here just because binder is so slow\n",
            "In model.forward(); printing here just because binder is so slow\n",
            "In model.forward(); printing here just because binder is so slow\n",
            "In model.forward(); printing here just because binder is so slow"
          ],
          "name": "stdout"
        },
        {
          "output_type": "stream",
          "text": [
            "batch_loss: 0.0062, loss: 0.0137 ||:  18%|#8        | 36/200 [00:01<00:04, 33.64it/s]"
          ],
          "name": "stderr"
        },
        {
          "output_type": "stream",
          "text": [
            "\n",
            "In model.forward(); printing here just because binder is so slow\n",
            "In model.forward(); printing here just because binder is so slow\n",
            "In model.forward(); printing here just because binder is so slow\n",
            "In model.forward(); printing here just because binder is so slow\n",
            "In model.forward(); printing here just because binder is so slow\n",
            "In model.forward(); printing here just because binder is so slow\n"
          ],
          "name": "stdout"
        },
        {
          "output_type": "stream",
          "text": [
            "batch_loss: 0.0071, loss: 0.0130 ||:  22%|##2       | 44/200 [00:01<00:04, 34.00it/s]"
          ],
          "name": "stderr"
        },
        {
          "output_type": "stream",
          "text": [
            "In model.forward(); printing here just because binder is so slow\n",
            "In model.forward(); printing here just because binder is so slow\n",
            "In model.forward(); printing here just because binder is so slow\n",
            "In model.forward(); printing here just because binder is so slow\n",
            "In model.forward(); printing here just because binder is so slow\n",
            "In model.forward(); printing here just because binder is so slow\n",
            "In model.forward(); printing here just because binder is so slow\n"
          ],
          "name": "stdout"
        },
        {
          "output_type": "stream",
          "text": [
            "\rbatch_loss: 0.0046, loss: 0.0125 ||:  24%|##4       | 48/200 [00:01<00:04, 32.87it/s]"
          ],
          "name": "stderr"
        },
        {
          "output_type": "stream",
          "text": [
            "In model.forward(); printing here just because binder is so slow\n",
            "In model.forward(); printing here just because binder is so slow\n",
            "In model.forward(); printing here just because binder is so slow\n",
            "In model.forward(); printing here just because binder is so slow\n",
            "In model.forward(); printing here just because binder is so slow\n",
            "In model.forward(); printing here just because binder is so slow\n",
            "In model.forward(); printing here just because binder is so slow\n"
          ],
          "name": "stdout"
        },
        {
          "output_type": "stream",
          "text": [
            "batch_loss: 0.0146, loss: 0.0120 ||:  28%|##8       | 56/200 [00:01<00:04, 33.12it/s]"
          ],
          "name": "stderr"
        },
        {
          "output_type": "stream",
          "text": [
            "In model.forward(); printing here just because binder is so slow\n",
            "In model.forward(); printing here just because binder is so slow\n",
            "In model.forward(); printing here just because binder is so slow\n",
            "In model.forward(); printing here just because binder is so slow\n",
            "In model.forward(); printing here just because binder is so slow\n",
            "In model.forward(); printing here just because binder is so slow\n",
            "In model.forward(); printing here just because binder is so slow\n"
          ],
          "name": "stdout"
        },
        {
          "output_type": "stream",
          "text": [
            "batch_loss: 0.0092, loss: 0.0115 ||:  32%|###2      | 64/200 [00:01<00:04, 33.13it/s]"
          ],
          "name": "stderr"
        },
        {
          "output_type": "stream",
          "text": [
            "In model.forward(); printing here just because binder is so slow\n",
            "In model.forward(); printing here just because binder is so slow\n",
            "In model.forward(); printing here just because binder is so slow\n",
            "In model.forward(); printing here just because binder is so slow\n",
            "In model.forward(); printing here just because binder is so slow\n",
            "In model.forward(); printing here just because binder is so slow\n",
            "In model.forward(); printing here just because binder is so slow\n"
          ],
          "name": "stdout"
        },
        {
          "output_type": "stream",
          "text": [
            "batch_loss: 0.0032, loss: 0.0109 ||:  36%|###6      | 72/200 [00:02<00:03, 32.38it/s]"
          ],
          "name": "stderr"
        },
        {
          "output_type": "stream",
          "text": [
            "In model.forward(); printing here just because binder is so slow\n",
            "In model.forward(); printing here just because binder is so slow\n",
            "In model.forward(); printing here just because binder is so slow\n",
            "In model.forward(); printing here just because binder is so slow\n",
            "In model.forward(); printing here just because binder is so slow\n",
            "In model.forward(); printing here just because binder is so slow\n",
            "In model.forward(); printing here just because binder is so slow\n"
          ],
          "name": "stdout"
        },
        {
          "output_type": "stream",
          "text": [
            "\rbatch_loss: 0.0124, loss: 0.0113 ||:  38%|###8      | 76/200 [00:02<00:03, 32.90it/s]"
          ],
          "name": "stderr"
        },
        {
          "output_type": "stream",
          "text": [
            "In model.forward(); printing here just because binder is so slow\n",
            "In model.forward(); printing here just because binder is so slow\n",
            "In model.forward(); printing here just because binder is so slow\n",
            "In model.forward(); printing here just because binder is so slow\n",
            "In model.forward(); printing here just because binder is so slow\n",
            "In model.forward(); printing here just because binder is so slow\n",
            "In model.forward(); printing here just because binder is so slow\n"
          ],
          "name": "stdout"
        },
        {
          "output_type": "stream",
          "text": [
            "batch_loss: 0.0036, loss: 0.0109 ||:  42%|####2     | 84/200 [00:02<00:03, 32.72it/s]"
          ],
          "name": "stderr"
        },
        {
          "output_type": "stream",
          "text": [
            "In model.forward(); printing here just because binder is so slow\n",
            "In model.forward(); printing here just because binder is so slow\n",
            "In model.forward(); printing here just because binder is so slow\n",
            "In model.forward(); printing here just because binder is so slow\n",
            "In model.forward(); printing here just because binder is so slow\n",
            "In model.forward(); printing here just because binder is so slow\n",
            "In model.forward(); printing here just because binder is so slow\n"
          ],
          "name": "stdout"
        },
        {
          "output_type": "stream",
          "text": [
            "batch_loss: 0.0054, loss: 0.0105 ||:  46%|####6     | 92/200 [00:02<00:03, 27.06it/s]"
          ],
          "name": "stderr"
        },
        {
          "output_type": "stream",
          "text": [
            "In model.forward(); printing here just because binder is so slow\n",
            "In model.forward(); printing here just because binder is so slow\n",
            "In model.forward(); printing here just because binder is so slow\n",
            "In model.forward(); printing here just because binder is so slow\n",
            "In model.forward(); printing here just because binder is so slow\n",
            "In model.forward(); printing here just because binder is so slow\n"
          ],
          "name": "stdout"
        },
        {
          "output_type": "stream",
          "text": [
            "batch_loss: 0.0064, loss: 0.0101 ||:  50%|#####     | 100/200 [00:03<00:03, 30.35it/s]"
          ],
          "name": "stderr"
        },
        {
          "output_type": "stream",
          "text": [
            "In model.forward(); printing here just because binder is so slow\n",
            "In model.forward(); printing here just because binder is so slow\n",
            "In model.forward(); printing here just because binder is so slow\n",
            "In model.forward(); printing here just because binder is so slow\n",
            "In model.forward(); printing here just because binder is so slow\n",
            "In model.forward(); printing here just because binder is so slow\n",
            "In model.forward(); printing here just because binder is so slow\n",
            "In model.forward(); printing here just because binder is so slow\n"
          ],
          "name": "stdout"
        },
        {
          "output_type": "stream",
          "text": [
            "\rbatch_loss: 0.0055, loss: 0.0099 ||:  52%|#####2    | 104/200 [00:03<00:03, 31.74it/s]"
          ],
          "name": "stderr"
        },
        {
          "output_type": "stream",
          "text": [
            "In model.forward(); printing here just because binder is so slow\n",
            "In model.forward(); printing here just because binder is so slow\n",
            "In model.forward(); printing here just because binder is so slow\n",
            "In model.forward(); printing here just because binder is so slow\n",
            "In model.forward(); printing here just because binder is so slow\n",
            "In model.forward(); printing here just because binder is so slow\n",
            "In model.forward(); printing here just because binder is so slow\n",
            "In model.forward(); printing here just because binder is so slow\n"
          ],
          "name": "stdout"
        },
        {
          "output_type": "stream",
          "text": [
            "batch_loss: 0.0036, loss: 0.0096 ||:  56%|#####6    | 113/200 [00:03<00:02, 33.35it/s]"
          ],
          "name": "stderr"
        },
        {
          "output_type": "stream",
          "text": [
            "In model.forward(); printing here just because binder is so slow\n",
            "In model.forward(); printing here just because binder is so slow\n",
            "In model.forward(); printing here just because binder is so slow\n",
            "In model.forward(); printing here just because binder is so slow\n",
            "In model.forward(); printing here just because binder is so slow\n",
            "In model.forward(); printing here just because binder is so slow\n",
            "In model.forward(); printing here just because binder is so slow\n"
          ],
          "name": "stdout"
        },
        {
          "output_type": "stream",
          "text": [
            "batch_loss: 0.0033, loss: 0.0094 ||:  61%|######1   | 122/200 [00:03<00:02, 35.36it/s]"
          ],
          "name": "stderr"
        },
        {
          "output_type": "stream",
          "text": [
            "In model.forward(); printing here just because binder is so slow\n",
            "In model.forward(); printing here just because binder is so slow\n",
            "In model.forward(); printing here just because binder is so slow\n",
            "In model.forward(); printing here just because binder is so slow\n",
            "In model.forward(); printing here just because binder is so slow\n",
            "In model.forward(); printing here just because binder is so slow\n",
            "In model.forward(); printing here just because binder is so slow\n",
            "In model.forward(); printing here just because binder is so slow\n"
          ],
          "name": "stdout"
        },
        {
          "output_type": "stream",
          "text": [
            "batch_loss: 0.0034, loss: 0.0091 ||:  66%|######5   | 131/200 [00:03<00:01, 37.01it/s]"
          ],
          "name": "stderr"
        },
        {
          "output_type": "stream",
          "text": [
            "In model.forward(); printing here just because binder is so slow\n",
            "In model.forward(); printing here just because binder is so slow\n",
            "In model.forward(); printing here just because binder is so slow\n",
            "In model.forward(); printing here just because binder is so slow\n",
            "In model.forward(); printing here just because binder is so slow\n",
            "In model.forward(); printing here just because binder is so slow\n",
            "In model.forward(); printing here just because binder is so slow\n",
            "In model.forward(); printing here just because binder is so slow\n",
            "In model.forward(); printing here just because binder is so slow\n"
          ],
          "name": "stdout"
        },
        {
          "output_type": "stream",
          "text": [
            "batch_loss: 0.0053, loss: 0.0090 ||:  70%|#######   | 140/200 [00:04<00:01, 37.66it/s]"
          ],
          "name": "stderr"
        },
        {
          "output_type": "stream",
          "text": [
            "In model.forward(); printing here just because binder is so slow\n",
            "In model.forward(); printing here just because binder is so slow\n",
            "In model.forward(); printing here just because binder is so slow\n",
            "In model.forward(); printing here just because binder is so slow\n",
            "In model.forward(); printing here just because binder is so slow\n",
            "In model.forward(); printing here just because binder is so slow\n",
            "In model.forward(); printing here just because binder is so slow\n",
            "In model.forward(); printing here just because binder is so slow\n"
          ],
          "name": "stdout"
        },
        {
          "output_type": "stream",
          "text": [
            "\rbatch_loss: 0.0006, loss: 0.0090 ||:  72%|#######2  | 144/200 [00:04<00:01, 34.83it/s]"
          ],
          "name": "stderr"
        },
        {
          "output_type": "stream",
          "text": [
            "In model.forward(); printing here just because binder is so slow\n",
            "In model.forward(); printing here just because binder is so slow\n",
            "In model.forward(); printing here just because binder is so slow\n",
            "In model.forward(); printing here just because binder is so slow\n",
            "In model.forward(); printing here just because binder is so slow\n",
            "In model.forward(); printing here just because binder is so slow\n",
            "In model.forward(); printing here just because binder is so slow\n"
          ],
          "name": "stdout"
        },
        {
          "output_type": "stream",
          "text": [
            "batch_loss: 0.0040, loss: 0.0087 ||:  76%|#######6  | 152/200 [00:04<00:01, 35.24it/s]"
          ],
          "name": "stderr"
        },
        {
          "output_type": "stream",
          "text": [
            "In model.forward(); printing here just because binder is so slow\n",
            "In model.forward(); printing here just because binder is so slow\n",
            "In model.forward(); printing here just because binder is so slow\n",
            "In model.forward(); printing here just because binder is so slow\n",
            "In model.forward(); printing here just because binder is so slow\n",
            "In model.forward(); printing here just because binder is so slow\n",
            "In model.forward(); printing here just because binder is so slow\n",
            "In model.forward(); printing here just because binder is so slow\n"
          ],
          "name": "stdout"
        },
        {
          "output_type": "stream",
          "text": [
            "batch_loss: 0.0023, loss: 0.0085 ||:  80%|########  | 160/200 [00:04<00:01, 36.13it/s]"
          ],
          "name": "stderr"
        },
        {
          "output_type": "stream",
          "text": [
            "In model.forward(); printing here just because binder is so slow\n",
            "In model.forward(); printing here just because binder is so slow\n",
            "In model.forward(); printing here just because binder is so slow\n",
            "In model.forward(); printing here just because binder is so slow\n",
            "In model.forward(); printing here just because binder is so slow\n",
            "In model.forward(); printing here just because binder is so slow\n",
            "In model.forward(); printing here just because binder is so slow\n",
            "In model.forward(); printing here just because binder is so slow\n"
          ],
          "name": "stdout"
        },
        {
          "output_type": "stream",
          "text": [
            "batch_loss: 0.0062, loss: 0.0084 ||:  84%|########4 | 168/200 [00:04<00:00, 34.84it/s]"
          ],
          "name": "stderr"
        },
        {
          "output_type": "stream",
          "text": [
            "In model.forward(); printing here just because binder is so slow\n",
            "In model.forward(); printing here just because binder is so slow\n",
            "In model.forward(); printing here just because binder is so slow\n",
            "In model.forward(); printing here just because binder is so slow\n",
            "In model.forward(); printing here just because binder is so slow\n",
            "In model.forward(); printing here just because binder is so slow\n",
            "In model.forward(); printing here just because binder is so slow\n"
          ],
          "name": "stdout"
        },
        {
          "output_type": "stream",
          "text": [
            "batch_loss: 0.0146, loss: 0.0087 ||:  88%|########8 | 176/200 [00:05<00:00, 33.24it/s]"
          ],
          "name": "stderr"
        },
        {
          "output_type": "stream",
          "text": [
            "In model.forward(); printing here just because binder is so slow\n",
            "In model.forward(); printing here just because binder is so slow\n",
            "In model.forward(); printing here just because binder is so slow\n",
            "In model.forward(); printing here just because binder is so slow\n",
            "In model.forward(); printing here just because binder is so slow\n",
            "In model.forward(); printing here just because binder is so slow\n",
            "In model.forward(); printing here just because binder is so slow\n"
          ],
          "name": "stdout"
        },
        {
          "output_type": "stream",
          "text": [
            "batch_loss: 0.0019, loss: 0.0085 ||:  92%|#########2| 184/200 [00:05<00:00, 34.96it/s]"
          ],
          "name": "stderr"
        },
        {
          "output_type": "stream",
          "text": [
            "In model.forward(); printing here just because binder is so slow\n",
            "In model.forward(); printing here just because binder is so slow\n",
            "In model.forward(); printing here just because binder is so slow\n",
            "In model.forward(); printing here just because binder is so slow\n",
            "In model.forward(); printing here just because binder is so slow\n",
            "In model.forward(); printing here just because binder is so slow\n",
            "In model.forward(); printing here just because binder is so slow\n",
            "In model.forward(); printing here just because binder is so slow\n",
            "In model.forward(); printing here just because binder is so slow\n"
          ],
          "name": "stdout"
        },
        {
          "output_type": "stream",
          "text": [
            "batch_loss: 0.0054, loss: 0.0084 ||:  96%|#########6| 193/200 [00:05<00:00, 36.04it/s]"
          ],
          "name": "stderr"
        },
        {
          "output_type": "stream",
          "text": [
            "In model.forward(); printing here just because binder is so slow\n",
            "In model.forward(); printing here just because binder is so slow\n",
            "In model.forward(); printing here just because binder is so slow\n",
            "In model.forward(); printing here just because binder is so slow\n",
            "In model.forward(); printing here just because binder is so slow\n",
            "In model.forward(); printing here just because binder is so slow\n",
            "In model.forward(); printing here just because binder is so slow\n",
            "In model.forward(); printing here just because binder is so slow\n"
          ],
          "name": "stdout"
        },
        {
          "output_type": "stream",
          "text": [
            "batch_loss: 0.0095, loss: 0.0084 ||: 100%|##########| 200/200 [00:05<00:00, 33.75it/s]\n",
            "  0%|          | 0/25 [00:00<?, ?it/s]"
          ],
          "name": "stderr"
        },
        {
          "output_type": "stream",
          "text": [
            "In model.forward(); printing here just because binder is so slow\n",
            "In model.forward(); printing here just because binder is so slow\n",
            "In model.forward(); printing here just because binder is so slow\n",
            "In model.forward(); printing here just because binder is so slow\n",
            "In model.forward(); printing here just because binder is so slow\n",
            "In model.forward(); printing here just because binder is so slow\n",
            "In model.forward(); printing here just because binder is so slow\n",
            "In model.forward(); printing here just because binder is so slow\n",
            "In model.forward(); printing here just because binder is so slow\n",
            "In model.forward(); printing here just because binder is so slow\n",
            "In model.forward(); printing here just because binder is so slow\n",
            "In model.forward(); printing here just because binder is so slow\n",
            "In model.forward(); printing here just because binder is so slow\n",
            "In model.forward(); printing here just because binder is so slow\n",
            "In model.forward(); printing here just because binder is so slow\n",
            "In model.forward(); printing here just because binder is so slow\n",
            "In model.forward(); printing here just because binder is so slow\n",
            "In model.forward(); printing here just because binder is so slow\n"
          ],
          "name": "stdout"
        },
        {
          "output_type": "stream",
          "text": [
            "batch_loss: 0.1394, loss: 0.3425 ||: 100%|##########| 25/25 [00:00<00:00, 428.04it/s]\n",
            "batch_loss: 0.0031, loss: 0.0026 ||:   2%|2         | 4/200 [00:00<00:06, 32.56it/s]"
          ],
          "name": "stderr"
        },
        {
          "output_type": "stream",
          "text": [
            "In model.forward(); printing here just because binder is so slow\n",
            "In model.forward(); printing here just because binder is so slow\n",
            "In model.forward(); printing here just because binder is so slow\n",
            "In model.forward(); printing here just because binder is so slow\n",
            "In model.forward(); printing here just because binder is so slow\n",
            "In model.forward(); printing here just because binder is so slow\n",
            "In model.forward(); printing here just because binder is so slow\n",
            "In model.forward(); printing here just because binder is so slow\n",
            "In model.forward(); printing here just because binder is so slow\n",
            "In model.forward(); printing here just because binder is so slow\n",
            "In model.forward(); printing here just because binder is so slow\n",
            "In model.forward(); printing here just because binder is so slow\n",
            "In model.forward(); printing here just because binder is so slow\n",
            "In model.forward(); printing here just because binder is so slow\n",
            "In model.forward(); printing here just because binder is so slow\n",
            "In model.forward(); printing here just because binder is so slow\n",
            "In model.forward(); printing here just because binder is so slow\n"
          ],
          "name": "stdout"
        },
        {
          "output_type": "stream",
          "text": [
            "batch_loss: 0.0015, loss: 0.0030 ||:   6%|6         | 12/200 [00:00<00:05, 33.64it/s]"
          ],
          "name": "stderr"
        },
        {
          "output_type": "stream",
          "text": [
            "In model.forward(); printing here just because binder is so slow\n",
            "In model.forward(); printing here just because binder is so slow\n",
            "In model.forward(); printing here just because binder is so slow\n",
            "In model.forward(); printing here just because binder is so slow\n",
            "In model.forward(); printing here just because binder is so slow\n",
            "In model.forward(); printing here just because binder is so slow\n",
            "In model.forward(); printing here just because binder is so slow\n",
            "In model.forward(); printing here just because binder is so slow\n"
          ],
          "name": "stdout"
        },
        {
          "output_type": "stream",
          "text": [
            "batch_loss: 0.0022, loss: 0.0029 ||:  10%|#         | 20/200 [00:00<00:05, 33.89it/s]"
          ],
          "name": "stderr"
        },
        {
          "output_type": "stream",
          "text": [
            "In model.forward(); printing here just because binder is so slow\n",
            "In model.forward(); printing here just because binder is so slow\n",
            "In model.forward(); printing here just because binder is so slow\n",
            "In model.forward(); printing here just because binder is so slow\n",
            "In model.forward(); printing here just because binder is so slow\n",
            "In model.forward(); printing here just because binder is so slow\n",
            "In model.forward(); printing here just because binder is so slow\n",
            "In model.forward(); printing here just because binder is so slow\n"
          ],
          "name": "stdout"
        },
        {
          "output_type": "stream",
          "text": [
            "\rbatch_loss: 0.0029, loss: 0.0029 ||:  12%|#2        | 24/200 [00:00<00:05, 33.96it/s]"
          ],
          "name": "stderr"
        },
        {
          "output_type": "stream",
          "text": [
            "In model.forward(); printing here just because binder is so slow\n",
            "In model.forward(); printing here just because binder is so slow\n",
            "In model.forward(); printing here just because binder is so slow\n",
            "In model.forward(); printing here just because binder is so slow\n",
            "In model.forward(); printing here just because binder is so slow\n",
            "In model.forward(); printing here just because binder is so slow\n",
            "In model.forward(); printing here just because binder is so slow\n"
          ],
          "name": "stdout"
        },
        {
          "output_type": "stream",
          "text": [
            "batch_loss: 0.0017, loss: 0.0031 ||:  16%|#6        | 32/200 [00:00<00:05, 33.11it/s]"
          ],
          "name": "stderr"
        },
        {
          "output_type": "stream",
          "text": [
            "In model.forward(); printing here just because binder is so slow\n",
            "In model.forward(); printing here just because binder is so slow\n",
            "In model.forward(); printing here just because binder is so slow\n",
            "In model.forward(); printing here just because binder is so slow\n",
            "In model.forward(); printing here just because binder is so slow\n",
            "In model.forward(); printing here just because binder is so slow\n",
            "In model.forward(); printing here just because binder is so slow\n"
          ],
          "name": "stdout"
        },
        {
          "output_type": "stream",
          "text": [
            "batch_loss: 0.0067, loss: 0.0032 ||:  20%|##        | 41/200 [00:01<00:04, 36.07it/s]"
          ],
          "name": "stderr"
        },
        {
          "output_type": "stream",
          "text": [
            "In model.forward(); printing here just because binder is so slow\n",
            "In model.forward(); printing here just because binder is so slow\n",
            "In model.forward(); printing here just because binder is so slow\n",
            "In model.forward(); printing here just because binder is so slow\n",
            "In model.forward(); printing here just because binder is so slow\n",
            "In model.forward(); printing here just because binder is so slow\n",
            "In model.forward(); printing here just because binder is so slow\n",
            "In model.forward(); printing here just because binder is so slow\n",
            "In model.forward(); printing here just because binder is so slow\n"
          ],
          "name": "stdout"
        },
        {
          "output_type": "stream",
          "text": [
            "batch_loss: 0.0061, loss: 0.0032 ||:  24%|##4       | 49/200 [00:01<00:04, 35.90it/s]"
          ],
          "name": "stderr"
        },
        {
          "output_type": "stream",
          "text": [
            "In model.forward(); printing here just because binder is so slow\n",
            "In model.forward(); printing here just because binder is so slow\n",
            "In model.forward(); printing here just because binder is so slow\n",
            "In model.forward(); printing here just because binder is so slow\n",
            "In model.forward(); printing here just because binder is so slow\n",
            "In model.forward(); printing here just because binder is so slow\n",
            "In model.forward(); printing here just because binder is so slow\n"
          ],
          "name": "stdout"
        },
        {
          "output_type": "stream",
          "text": [
            "batch_loss: 0.0032, loss: 0.0032 ||:  28%|##8       | 57/200 [00:01<00:04, 35.05it/s]"
          ],
          "name": "stderr"
        },
        {
          "output_type": "stream",
          "text": [
            "In model.forward(); printing here just because binder is so slow\n",
            "In model.forward(); printing here just because binder is so slow\n",
            "In model.forward(); printing here just because binder is so slow\n",
            "In model.forward(); printing here just because binder is so slow\n",
            "In model.forward(); printing here just because binder is so slow\n",
            "In model.forward(); printing here just because binder is so slow\n",
            "In model.forward(); printing here just because binder is so slow\n",
            "In model.forward(); printing here just because binder is so slow\n"
          ],
          "name": "stdout"
        },
        {
          "output_type": "stream",
          "text": [
            "batch_loss: 0.0102, loss: 0.0032 ||:  33%|###3      | 66/200 [00:01<00:03, 35.75it/s]"
          ],
          "name": "stderr"
        },
        {
          "output_type": "stream",
          "text": [
            "In model.forward(); printing here just because binder is so slow\n",
            "In model.forward(); printing here just because binder is so slow\n",
            "In model.forward(); printing here just because binder is so slow\n",
            "In model.forward(); printing here just because binder is so slow\n",
            "In model.forward(); printing here just because binder is so slow\n",
            "In model.forward(); printing here just because binder is so slow\n",
            "In model.forward(); printing here just because binder is so slow\n",
            "In model.forward(); printing here just because binder is so slow\n"
          ],
          "name": "stdout"
        },
        {
          "output_type": "stream",
          "text": [
            "batch_loss: 0.0038, loss: 0.0033 ||:  37%|###7      | 74/200 [00:02<00:03, 36.24it/s]"
          ],
          "name": "stderr"
        },
        {
          "output_type": "stream",
          "text": [
            "In model.forward(); printing here just because binder is so slow\n",
            "In model.forward(); printing here just because binder is so slow\n",
            "In model.forward(); printing here just because binder is so slow\n",
            "In model.forward(); printing here just because binder is so slow\n",
            "In model.forward(); printing here just because binder is so slow\n",
            "In model.forward(); printing here just because binder is so slow\n",
            "In model.forward(); printing here just because binder is so slow\n",
            "In model.forward(); printing here just because binder is so slow\n"
          ],
          "name": "stdout"
        },
        {
          "output_type": "stream",
          "text": [
            "batch_loss: 0.0045, loss: 0.0033 ||:  41%|####1     | 82/200 [00:02<00:03, 36.04it/s]"
          ],
          "name": "stderr"
        },
        {
          "output_type": "stream",
          "text": [
            "In model.forward(); printing here just because binder is so slow\n",
            "In model.forward(); printing here just because binder is so slow\n",
            "In model.forward(); printing here just because binder is so slow\n",
            "In model.forward(); printing here just because binder is so slow\n",
            "In model.forward(); printing here just because binder is so slow\n",
            "In model.forward(); printing here just because binder is so slow\n",
            "In model.forward(); printing here just because binder is so slow\n",
            "In model.forward(); printing here just because binder is so slow\n"
          ],
          "name": "stdout"
        },
        {
          "output_type": "stream",
          "text": [
            "batch_loss: 0.0034, loss: 0.0033 ||:  45%|####5     | 90/200 [00:02<00:02, 36.80it/s]"
          ],
          "name": "stderr"
        },
        {
          "output_type": "stream",
          "text": [
            "In model.forward(); printing here just because binder is so slow\n",
            "In model.forward(); printing here just because binder is so slow\n",
            "In model.forward(); printing here just because binder is so slow\n",
            "In model.forward(); printing here just because binder is so slow\n",
            "In model.forward(); printing here just because binder is so slow\n",
            "In model.forward(); printing here just because binder is so slow\n",
            "In model.forward(); printing here just because binder is so slow\n",
            "In model.forward(); printing here just because binder is so slow\n"
          ],
          "name": "stdout"
        },
        {
          "output_type": "stream",
          "text": [
            "batch_loss: 0.0025, loss: 0.0033 ||:  49%|####9     | 98/200 [00:02<00:02, 36.22it/s]"
          ],
          "name": "stderr"
        },
        {
          "output_type": "stream",
          "text": [
            "In model.forward(); printing here just because binder is so slow\n",
            "In model.forward(); printing here just because binder is so slow\n",
            "In model.forward(); printing here just because binder is so slow\n",
            "In model.forward(); printing here just because binder is so slow\n",
            "In model.forward(); printing here just because binder is so slow\n",
            "In model.forward(); printing here just because binder is so slow\n",
            "In model.forward(); printing here just because binder is so slow\n",
            "In model.forward(); printing here just because binder is so slow\n"
          ],
          "name": "stdout"
        },
        {
          "output_type": "stream",
          "text": [
            "batch_loss: 0.0035, loss: 0.0033 ||:  53%|#####3    | 106/200 [00:03<00:02, 35.04it/s]"
          ],
          "name": "stderr"
        },
        {
          "output_type": "stream",
          "text": [
            "In model.forward(); printing here just because binder is so slow\n",
            "In model.forward(); printing here just because binder is so slow\n",
            "In model.forward(); printing here just because binder is so slow\n",
            "In model.forward(); printing here just because binder is so slow\n",
            "In model.forward(); printing here just because binder is so slow\n",
            "In model.forward(); printing here just because binder is so slow\n",
            "In model.forward(); printing here just because binder is so slow\n"
          ],
          "name": "stdout"
        },
        {
          "output_type": "stream",
          "text": [
            "\rbatch_loss: 0.0018, loss: 0.0033 ||:  55%|#####5    | 110/200 [00:03<00:02, 31.29it/s]"
          ],
          "name": "stderr"
        },
        {
          "output_type": "stream",
          "text": [
            "In model.forward(); printing here just because binder is so slow\n",
            "In model.forward(); printing here just because binder is so slow\n",
            "In model.forward(); printing here just because binder is so slow\n",
            "In model.forward(); printing here just because binder is so slow\n",
            "In model.forward(); printing here just because binder is so slow\n"
          ],
          "name": "stdout"
        },
        {
          "output_type": "stream",
          "text": [
            "\rbatch_loss: 0.0028, loss: 0.0033 ||:  57%|#####6    | 114/200 [00:03<00:02, 28.84it/s]"
          ],
          "name": "stderr"
        },
        {
          "output_type": "stream",
          "text": [
            "In model.forward(); printing here just because binder is so slow\n",
            "In model.forward(); printing here just because binder is so slow\n",
            "In model.forward(); printing here just because binder is so slow\n",
            "In model.forward(); printing here just because binder is so slow\n",
            "In model.forward(); printing here just because binder is so slow\n",
            "In model.forward(); printing here just because binder is so slow\n",
            "In model.forward(); printing here just because binder is so slow\n"
          ],
          "name": "stdout"
        },
        {
          "output_type": "stream",
          "text": [
            "batch_loss: 0.0003, loss: 0.0032 ||:  61%|######1   | 122/200 [00:03<00:02, 30.71it/s]"
          ],
          "name": "stderr"
        },
        {
          "output_type": "stream",
          "text": [
            "In model.forward(); printing here just because binder is so slow\n",
            "In model.forward(); printing here just because binder is so slow\n",
            "In model.forward(); printing here just because binder is so slow\n",
            "In model.forward(); printing here just because binder is so slow\n",
            "In model.forward(); printing here just because binder is so slow\n",
            "In model.forward(); printing here just because binder is so slow\n",
            "In model.forward(); printing here just because binder is so slow\n",
            "In model.forward(); printing here just because binder is so slow\n"
          ],
          "name": "stdout"
        },
        {
          "output_type": "stream",
          "text": [
            "batch_loss: 0.0035, loss: 0.0032 ||:  65%|######5   | 130/200 [00:03<00:02, 33.73it/s]"
          ],
          "name": "stderr"
        },
        {
          "output_type": "stream",
          "text": [
            "In model.forward(); printing here just because binder is so slow\n",
            "In model.forward(); printing here just because binder is so slow\n",
            "In model.forward(); printing here just because binder is so slow\n",
            "In model.forward(); printing here just because binder is so slow\n",
            "In model.forward(); printing here just because binder is so slow\n",
            "In model.forward(); printing here just because binder is so slow\n",
            "In model.forward(); printing here just because binder is so slow\n",
            "In model.forward(); printing here just because binder is so slow\n"
          ],
          "name": "stdout"
        },
        {
          "output_type": "stream",
          "text": [
            "batch_loss: 0.0008, loss: 0.0031 ||:  69%|######9   | 138/200 [00:04<00:01, 34.64it/s]"
          ],
          "name": "stderr"
        },
        {
          "output_type": "stream",
          "text": [
            "In model.forward(); printing here just because binder is so slow\n",
            "In model.forward(); printing here just because binder is so slow\n",
            "In model.forward(); printing here just because binder is so slow\n",
            "In model.forward(); printing here just because binder is so slow\n",
            "In model.forward(); printing here just because binder is so slow\n",
            "In model.forward(); printing here just because binder is so slow\n",
            "In model.forward(); printing here just because binder is so slow\n"
          ],
          "name": "stdout"
        },
        {
          "output_type": "stream",
          "text": [
            "batch_loss: 0.0011, loss: 0.0030 ||:  73%|#######3  | 146/200 [00:04<00:01, 33.88it/s]"
          ],
          "name": "stderr"
        },
        {
          "output_type": "stream",
          "text": [
            "In model.forward(); printing here just because binder is so slow\n",
            "In model.forward(); printing here just because binder is so slow\n",
            "In model.forward(); printing here just because binder is so slow\n",
            "In model.forward(); printing here just because binder is so slow\n",
            "In model.forward(); printing here just because binder is so slow\n",
            "In model.forward(); printing here just because binder is so slow\n",
            "In model.forward(); printing here just because binder is so slow\n",
            "In model.forward(); printing here just because binder is so slow\n"
          ],
          "name": "stdout"
        },
        {
          "output_type": "stream",
          "text": [
            "batch_loss: 0.0015, loss: 0.0031 ||:  78%|#######7  | 155/200 [00:04<00:01, 35.15it/s]"
          ],
          "name": "stderr"
        },
        {
          "output_type": "stream",
          "text": [
            "In model.forward(); printing here just because binder is so slow\n",
            "In model.forward(); printing here just because binder is so slow\n",
            "In model.forward(); printing here just because binder is so slow\n",
            "In model.forward(); printing here just because binder is so slow\n",
            "In model.forward(); printing here just because binder is so slow\n",
            "In model.forward(); printing here just because binder is so slow\n",
            "In model.forward(); printing here just because binder is so slow\n",
            "In model.forward(); printing here just because binder is so slow\n"
          ],
          "name": "stdout"
        },
        {
          "output_type": "stream",
          "text": [
            "batch_loss: 0.0053, loss: 0.0030 ||:  82%|########1 | 163/200 [00:04<00:01, 34.74it/s]"
          ],
          "name": "stderr"
        },
        {
          "output_type": "stream",
          "text": [
            "In model.forward(); printing here just because binder is so slow\n",
            "In model.forward(); printing here just because binder is so slow\n",
            "In model.forward(); printing here just because binder is so slow\n",
            "In model.forward(); printing here just because binder is so slow\n",
            "In model.forward(); printing here just because binder is so slow\n",
            "In model.forward(); printing here just because binder is so slow\n",
            "In model.forward(); printing here just because binder is so slow\n"
          ],
          "name": "stdout"
        },
        {
          "output_type": "stream",
          "text": [
            "\rbatch_loss: 0.0027, loss: 0.0031 ||:  84%|########3 | 167/200 [00:04<00:00, 33.47it/s]"
          ],
          "name": "stderr"
        },
        {
          "output_type": "stream",
          "text": [
            "In model.forward(); printing here just because binder is so slow\n",
            "In model.forward(); printing here just because binder is so slow\n",
            "In model.forward(); printing here just because binder is so slow\n",
            "In model.forward(); printing here just because binder is so slow\n",
            "In model.forward(); printing here just because binder is so slow\n",
            "In model.forward(); printing here just because binder is so slow\n",
            "In model.forward(); printing here just because binder is so slow\n"
          ],
          "name": "stdout"
        },
        {
          "output_type": "stream",
          "text": [
            "batch_loss: 0.0009, loss: 0.0030 ||:  88%|########7 | 175/200 [00:05<00:00, 32.05it/s]"
          ],
          "name": "stderr"
        },
        {
          "output_type": "stream",
          "text": [
            "In model.forward(); printing here just because binder is so slow\n",
            "In model.forward(); printing here just because binder is so slow\n",
            "In model.forward(); printing here just because binder is so slow\n",
            "In model.forward(); printing here just because binder is so slow\n",
            "In model.forward(); printing here just because binder is so slow\n",
            "In model.forward(); printing here just because binder is so slow\n",
            "In model.forward(); printing here just because binder is so slow\n"
          ],
          "name": "stdout"
        },
        {
          "output_type": "stream",
          "text": [
            "batch_loss: 0.0025, loss: 0.0030 ||:  92%|#########2| 184/200 [00:05<00:00, 34.14it/s]"
          ],
          "name": "stderr"
        },
        {
          "output_type": "stream",
          "text": [
            "In model.forward(); printing here just because binder is so slow\n",
            "In model.forward(); printing here just because binder is so slow\n",
            "In model.forward(); printing here just because binder is so slow\n",
            "In model.forward(); printing here just because binder is so slow\n",
            "In model.forward(); printing here just because binder is so slow\n",
            "In model.forward(); printing here just because binder is so slow\n",
            "In model.forward(); printing here just because binder is so slow\n",
            "In model.forward(); printing here just because binder is so slow\n"
          ],
          "name": "stdout"
        },
        {
          "output_type": "stream",
          "text": [
            "batch_loss: 0.0035, loss: 0.0033 ||:  96%|#########6| 192/200 [00:05<00:00, 33.71it/s]"
          ],
          "name": "stderr"
        },
        {
          "output_type": "stream",
          "text": [
            "In model.forward(); printing here just because binder is so slow\n",
            "In model.forward(); printing here just because binder is so slow\n",
            "In model.forward(); printing here just because binder is so slow\n",
            "In model.forward(); printing here just because binder is so slow\n",
            "In model.forward(); printing here just because binder is so slow\n",
            "In model.forward(); printing here just because binder is so slow\n",
            "In model.forward(); printing here just because binder is so slow\n"
          ],
          "name": "stdout"
        },
        {
          "output_type": "stream",
          "text": [
            "\rbatch_loss: 0.0008, loss: 0.0033 ||:  98%|#########8| 196/200 [00:05<00:00, 30.76it/s]"
          ],
          "name": "stderr"
        },
        {
          "output_type": "stream",
          "text": [
            "In model.forward(); printing here just because binder is so slow\n",
            "In model.forward(); printing here just because binder is so slow\n",
            "In model.forward(); printing here just because binder is so slow\n",
            "In model.forward(); printing here just because binder is so slow\n",
            "In model.forward(); printing here just because binder is so slow\n",
            "In model.forward(); printing here just because binder is so slow\n"
          ],
          "name": "stdout"
        },
        {
          "output_type": "stream",
          "text": [
            "batch_loss: 0.0031, loss: 0.0033 ||: 100%|##########| 200/200 [00:05<00:00, 33.77it/s]\n",
            "batch_loss: 0.1872, loss: 0.3405 ||: 100%|##########| 25/25 [00:00<00:00, 431.35it/s]\n",
            "  0%|          | 0/200 [00:00<?, ?it/s]"
          ],
          "name": "stderr"
        },
        {
          "output_type": "stream",
          "text": [
            "In model.forward(); printing here just because binder is so slow\n",
            "In model.forward(); printing here just because binder is so slow\n",
            "In model.forward(); printing here just because binder is so slow\n",
            "In model.forward(); printing here just because binder is so slow\n",
            "In model.forward(); printing here just because binder is so slow\n",
            "In model.forward(); printing here just because binder is so slow\n",
            "In model.forward(); printing here just because binder is so slow\n",
            "In model.forward(); printing here just because binder is so slow\n",
            "In model.forward(); printing here just because binder is so slow\n",
            "In model.forward(); printing here just because binder is so slow\n",
            "In model.forward(); printing here just because binder is so slow\n",
            "In model.forward(); printing here just because binder is so slow\n",
            "In model.forward(); printing here just because binder is so slow\n",
            "In model.forward(); printing here just because binder is so slow\n",
            "In model.forward(); printing here just because binder is so slow\n",
            "In model.forward(); printing here just because binder is so slow\n",
            "In model.forward(); printing here just because binder is so slow\n",
            "In model.forward(); printing here just because binder is so slow\n",
            "In model.forward(); printing here just because binder is so slow\n",
            "In model.forward(); printing here just because binder is so slow\n",
            "In model.forward(); printing here just because binder is so slow\n",
            "In model.forward(); printing here just because binder is so slow\n",
            "In model.forward(); printing here just because binder is so slow\n",
            "In model.forward(); printing here just because binder is so slow\n",
            "In model.forward(); printing here just because binder is so slow\n",
            "In model.forward(); printing here just because binder is so slow\n",
            "In model.forward(); printing here just because binder is so slow\n",
            "In model.forward(); printing here just because binder is so slow\n",
            "In model.forward(); printing here just because binder is so slow\n",
            "In model.forward(); printing here just because binder is so slow\n"
          ],
          "name": "stdout"
        },
        {
          "output_type": "stream",
          "text": [
            "batch_loss: 0.0011, loss: 0.0020 ||:   4%|4         | 8/200 [00:00<00:05, 36.07it/s]"
          ],
          "name": "stderr"
        },
        {
          "output_type": "stream",
          "text": [
            "In model.forward(); printing here just because binder is so slow\n",
            "In model.forward(); printing here just because binder is so slow\n",
            "In model.forward(); printing here just because binder is so slow\n",
            "In model.forward(); printing here just because binder is so slow\n",
            "In model.forward(); printing here just because binder is so slow\n",
            "In model.forward(); printing here just because binder is so slow\n",
            "In model.forward(); printing here just because binder is so slow\n",
            "In model.forward(); printing here just because binder is so slow\n"
          ],
          "name": "stdout"
        },
        {
          "output_type": "stream",
          "text": [
            "batch_loss: 0.0011, loss: 0.0021 ||:   8%|7         | 15/200 [00:00<00:06, 30.57it/s]"
          ],
          "name": "stderr"
        },
        {
          "output_type": "stream",
          "text": [
            "In model.forward(); printing here just because binder is so slow\n",
            "In model.forward(); printing here just because binder is so slow\n",
            "In model.forward(); printing here just because binder is so slow\n",
            "In model.forward(); printing here just because binder is so slow\n",
            "In model.forward(); printing here just because binder is so slow\n",
            "In model.forward(); printing here just because binder is so slow\n",
            "In model.forward(); printing here just because binder is so slow\n"
          ],
          "name": "stdout"
        },
        {
          "output_type": "stream",
          "text": [
            "batch_loss: 0.0014, loss: 0.0020 ||:  12%|#2        | 24/200 [00:00<00:05, 34.09it/s]"
          ],
          "name": "stderr"
        },
        {
          "output_type": "stream",
          "text": [
            "In model.forward(); printing here just because binder is so slow\n",
            "In model.forward(); printing here just because binder is so slow\n",
            "In model.forward(); printing here just because binder is so slow\n",
            "In model.forward(); printing here just because binder is so slow\n",
            "In model.forward(); printing here just because binder is so slow\n",
            "In model.forward(); printing here just because binder is so slow\n",
            "In model.forward(); printing here just because binder is so slow\n"
          ],
          "name": "stdout"
        },
        {
          "output_type": "stream",
          "text": [
            "batch_loss: 0.0013, loss: 0.0020 ||:  16%|#6        | 32/200 [00:00<00:04, 34.96it/s]"
          ],
          "name": "stderr"
        },
        {
          "output_type": "stream",
          "text": [
            "In model.forward(); printing here just because binder is so slow\n",
            "In model.forward(); printing here just because binder is so slow\n",
            "In model.forward(); printing here just because binder is so slow\n",
            "In model.forward(); printing here just because binder is so slow\n",
            "In model.forward(); printing here just because binder is so slow\n",
            "In model.forward(); printing here just because binder is so slow\n",
            "In model.forward(); printing here just because binder is so slow\n",
            "In model.forward(); printing here just because binder is so slow\n"
          ],
          "name": "stdout"
        },
        {
          "output_type": "stream",
          "text": [
            "batch_loss: 0.0014, loss: 0.0019 ||:  20%|##        | 40/200 [00:01<00:04, 34.51it/s]"
          ],
          "name": "stderr"
        },
        {
          "output_type": "stream",
          "text": [
            "In model.forward(); printing here just because binder is so slow\n",
            "In model.forward(); printing here just because binder is so slow\n",
            "In model.forward(); printing here just because binder is so slow\n",
            "In model.forward(); printing here just because binder is so slow\n",
            "In model.forward(); printing here just because binder is so slow\n",
            "In model.forward(); printing here just because binder is so slow\n",
            "In model.forward(); printing here just because binder is so slow\n",
            "In model.forward(); printing here just because binder is so slow"
          ],
          "name": "stdout"
        },
        {
          "output_type": "stream",
          "text": [
            "batch_loss: 0.0017, loss: 0.0018 ||:  24%|##4       | 48/200 [00:01<00:04, 34.70it/s]"
          ],
          "name": "stderr"
        },
        {
          "output_type": "stream",
          "text": [
            "\n",
            "In model.forward(); printing here just because binder is so slow\n",
            "In model.forward(); printing here just because binder is so slow\n",
            "In model.forward(); printing here just because binder is so slow\n",
            "In model.forward(); printing here just because binder is so slow\n",
            "In model.forward(); printing here just because binder is so slow\n",
            "In model.forward(); printing here just because binder is so slow\n",
            "In model.forward(); printing here just because binder is so slow\n"
          ],
          "name": "stdout"
        },
        {
          "output_type": "stream",
          "text": [
            "batch_loss: 0.0010, loss: 0.0017 ||:  28%|##8       | 56/200 [00:01<00:04, 35.03it/s]"
          ],
          "name": "stderr"
        },
        {
          "output_type": "stream",
          "text": [
            "In model.forward(); printing here just because binder is so slow\n",
            "In model.forward(); printing here just because binder is so slow\n",
            "In model.forward(); printing here just because binder is so slow\n",
            "In model.forward(); printing here just because binder is so slow\n",
            "In model.forward(); printing here just because binder is so slow\n",
            "In model.forward(); printing here just because binder is so slow\n",
            "In model.forward(); printing here just because binder is so slow\n",
            "In model.forward(); printing here just because binder is so slow\n"
          ],
          "name": "stdout"
        },
        {
          "output_type": "stream",
          "text": [
            "batch_loss: 0.0022, loss: 0.0017 ||:  32%|###2      | 64/200 [00:01<00:04, 33.83it/s]"
          ],
          "name": "stderr"
        },
        {
          "output_type": "stream",
          "text": [
            "In model.forward(); printing here just because binder is so slow\n",
            "In model.forward(); printing here just because binder is so slow\n",
            "In model.forward(); printing here just because binder is so slow\n",
            "In model.forward(); printing here just because binder is so slow\n",
            "In model.forward(); printing here just because binder is so slow\n",
            "In model.forward(); printing here just because binder is so slow\n",
            "In model.forward(); printing here just because binder is so slow\n",
            "In model.forward(); printing here just because binder is so slow\n"
          ],
          "name": "stdout"
        },
        {
          "output_type": "stream",
          "text": [
            "batch_loss: 0.0010, loss: 0.0018 ||:  36%|###6      | 72/200 [00:02<00:03, 34.43it/s]"
          ],
          "name": "stderr"
        },
        {
          "output_type": "stream",
          "text": [
            "In model.forward(); printing here just because binder is so slow\n",
            "In model.forward(); printing here just because binder is so slow\n",
            "In model.forward(); printing here just because binder is so slow\n",
            "In model.forward(); printing here just because binder is so slow\n",
            "In model.forward(); printing here just because binder is so slow\n",
            "In model.forward(); printing here just because binder is so slow\n",
            "In model.forward(); printing here just because binder is so slow\n"
          ],
          "name": "stdout"
        },
        {
          "output_type": "stream",
          "text": [
            "batch_loss: 0.0025, loss: 0.0018 ||:  40%|####      | 80/200 [00:02<00:03, 36.72it/s]"
          ],
          "name": "stderr"
        },
        {
          "output_type": "stream",
          "text": [
            "In model.forward(); printing here just because binder is so slow\n",
            "In model.forward(); printing here just because binder is so slow\n",
            "In model.forward(); printing here just because binder is so slow\n",
            "In model.forward(); printing here just because binder is so slow\n",
            "In model.forward(); printing here just because binder is so slow\n",
            "In model.forward(); printing here just because binder is so slow\n",
            "In model.forward(); printing here just because binder is so slow\n",
            "In model.forward(); printing here just because binder is so slow\n",
            "In model.forward(); printing here just because binder is so slow\n"
          ],
          "name": "stdout"
        },
        {
          "output_type": "stream",
          "text": [
            "batch_loss: 0.0024, loss: 0.0018 ||:  44%|####4     | 88/200 [00:02<00:03, 35.98it/s]"
          ],
          "name": "stderr"
        },
        {
          "output_type": "stream",
          "text": [
            "In model.forward(); printing here just because binder is so slow\n",
            "In model.forward(); printing here just because binder is so slow\n",
            "In model.forward(); printing here just because binder is so slow\n",
            "In model.forward(); printing here just because binder is so slow\n",
            "In model.forward(); printing here just because binder is so slow\n",
            "In model.forward(); printing here just because binder is so slow\n",
            "In model.forward(); printing here just because binder is so slow\n",
            "In model.forward(); printing here just because binder is so slow\n"
          ],
          "name": "stdout"
        },
        {
          "output_type": "stream",
          "text": [
            "batch_loss: 0.0057, loss: 0.0018 ||:  48%|####8     | 96/200 [00:02<00:02, 35.06it/s]"
          ],
          "name": "stderr"
        },
        {
          "output_type": "stream",
          "text": [
            "In model.forward(); printing here just because binder is so slow\n",
            "In model.forward(); printing here just because binder is so slow\n",
            "In model.forward(); printing here just because binder is so slow\n",
            "In model.forward(); printing here just because binder is so slow\n",
            "In model.forward(); printing here just because binder is so slow\n",
            "In model.forward(); printing here just because binder is so slow\n",
            "In model.forward(); printing here just because binder is so slow\n",
            "In model.forward(); printing here just because binder is so slow\n"
          ],
          "name": "stdout"
        },
        {
          "output_type": "stream",
          "text": [
            "\rbatch_loss: 0.0024, loss: 0.0018 ||:  50%|#####     | 100/200 [00:02<00:02, 34.74it/s]"
          ],
          "name": "stderr"
        },
        {
          "output_type": "stream",
          "text": [
            "In model.forward(); printing here just because binder is so slow\n",
            "In model.forward(); printing here just because binder is so slow\n",
            "In model.forward(); printing here just because binder is so slow\n",
            "In model.forward(); printing here just because binder is so slow\n",
            "In model.forward(); printing here just because binder is so slow\n",
            "In model.forward(); printing here just because binder is so slow\n",
            "In model.forward(); printing here just because binder is so slow\n"
          ],
          "name": "stdout"
        },
        {
          "output_type": "stream",
          "text": [
            "batch_loss: 0.0007, loss: 0.0018 ||:  54%|#####4    | 108/200 [00:03<00:02, 32.95it/s]"
          ],
          "name": "stderr"
        },
        {
          "output_type": "stream",
          "text": [
            "In model.forward(); printing here just because binder is so slow\n",
            "In model.forward(); printing here just because binder is so slow\n",
            "In model.forward(); printing here just because binder is so slow\n",
            "In model.forward(); printing here just because binder is so slow\n",
            "In model.forward(); printing here just because binder is so slow\n",
            "In model.forward(); printing here just because binder is so slow\n",
            "In model.forward(); printing here just because binder is so slow\n"
          ],
          "name": "stdout"
        },
        {
          "output_type": "stream",
          "text": [
            "batch_loss: 0.0020, loss: 0.0018 ||:  58%|#####8    | 116/200 [00:03<00:02, 30.72it/s]"
          ],
          "name": "stderr"
        },
        {
          "output_type": "stream",
          "text": [
            "In model.forward(); printing here just because binder is so slow\n",
            "In model.forward(); printing here just because binder is so slow\n",
            "In model.forward(); printing here just because binder is so slow\n",
            "In model.forward(); printing here just because binder is so slow\n",
            "In model.forward(); printing here just because binder is so slow\n",
            "In model.forward(); printing here just because binder is so slow\n"
          ],
          "name": "stdout"
        },
        {
          "output_type": "stream",
          "text": [
            "batch_loss: 0.0010, loss: 0.0018 ||:  62%|######2   | 124/200 [00:03<00:02, 31.89it/s]"
          ],
          "name": "stderr"
        },
        {
          "output_type": "stream",
          "text": [
            "In model.forward(); printing here just because binder is so slow\n",
            "In model.forward(); printing here just because binder is so slow\n",
            "In model.forward(); printing here just because binder is so slow\n",
            "In model.forward(); printing here just because binder is so slow\n",
            "In model.forward(); printing here just because binder is so slow\n",
            "In model.forward(); printing here just because binder is so slow\n",
            "In model.forward(); printing here just because binder is so slow\n",
            "In model.forward(); printing here just because binder is so slow\n"
          ],
          "name": "stdout"
        },
        {
          "output_type": "stream",
          "text": [
            "batch_loss: 0.0006, loss: 0.0018 ||:  66%|######6   | 132/200 [00:03<00:01, 34.14it/s]"
          ],
          "name": "stderr"
        },
        {
          "output_type": "stream",
          "text": [
            "In model.forward(); printing here just because binder is so slow\n",
            "In model.forward(); printing here just because binder is so slow\n",
            "In model.forward(); printing here just because binder is so slow\n",
            "In model.forward(); printing here just because binder is so slow\n",
            "In model.forward(); printing here just because binder is so slow\n",
            "In model.forward(); printing here just because binder is so slow\n",
            "In model.forward(); printing here just because binder is so slow\n",
            "In model.forward(); printing here just because binder is so slow\n"
          ],
          "name": "stdout"
        },
        {
          "output_type": "stream",
          "text": [
            "batch_loss: 0.0064, loss: 0.0018 ||:  70%|#######   | 140/200 [00:04<00:01, 34.34it/s]"
          ],
          "name": "stderr"
        },
        {
          "output_type": "stream",
          "text": [
            "In model.forward(); printing here just because binder is so slow\n",
            "In model.forward(); printing here just because binder is so slow\n",
            "In model.forward(); printing here just because binder is so slow\n",
            "In model.forward(); printing here just because binder is so slow\n",
            "In model.forward(); printing here just because binder is so slow\n",
            "In model.forward(); printing here just because binder is so slow\n",
            "In model.forward(); printing here just because binder is so slow\n"
          ],
          "name": "stdout"
        },
        {
          "output_type": "stream",
          "text": [
            "\rbatch_loss: 0.0015, loss: 0.0018 ||:  72%|#######2  | 144/200 [00:04<00:01, 33.99it/s]"
          ],
          "name": "stderr"
        },
        {
          "output_type": "stream",
          "text": [
            "In model.forward(); printing here just because binder is so slow\n",
            "In model.forward(); printing here just because binder is so slow\n",
            "In model.forward(); printing here just because binder is so slow\n",
            "In model.forward(); printing here just because binder is so slow\n",
            "In model.forward(); printing here just because binder is so slow\n",
            "In model.forward(); printing here just because binder is so slow\n",
            "In model.forward(); printing here just because binder is so slow\n"
          ],
          "name": "stdout"
        },
        {
          "output_type": "stream",
          "text": [
            "batch_loss: 0.0023, loss: 0.0018 ||:  76%|#######6  | 152/200 [00:04<00:01, 32.09it/s]"
          ],
          "name": "stderr"
        },
        {
          "output_type": "stream",
          "text": [
            "In model.forward(); printing here just because binder is so slow\n",
            "In model.forward(); printing here just because binder is so slow\n",
            "In model.forward(); printing here just because binder is so slow\n",
            "In model.forward(); printing here just because binder is so slow\n",
            "In model.forward(); printing here just because binder is so slow\n",
            "In model.forward(); printing here just because binder is so slow\n",
            "In model.forward(); printing here just because binder is so slow\n"
          ],
          "name": "stdout"
        },
        {
          "output_type": "stream",
          "text": [
            "batch_loss: 0.0004, loss: 0.0018 ||:  80%|########  | 160/200 [00:04<00:01, 33.35it/s]"
          ],
          "name": "stderr"
        },
        {
          "output_type": "stream",
          "text": [
            "In model.forward(); printing here just because binder is so slow\n",
            "In model.forward(); printing here just because binder is so slow\n",
            "In model.forward(); printing here just because binder is so slow\n",
            "In model.forward(); printing here just because binder is so slow\n",
            "In model.forward(); printing here just because binder is so slow\n",
            "In model.forward(); printing here just because binder is so slow\n",
            "In model.forward(); printing here just because binder is so slow\n",
            "In model.forward(); printing here just because binder is so slow\n"
          ],
          "name": "stdout"
        },
        {
          "output_type": "stream",
          "text": [
            "batch_loss: 0.0006, loss: 0.0018 ||:  84%|########4 | 169/200 [00:04<00:00, 36.12it/s]"
          ],
          "name": "stderr"
        },
        {
          "output_type": "stream",
          "text": [
            "In model.forward(); printing here just because binder is so slow\n",
            "In model.forward(); printing here just because binder is so slow\n",
            "In model.forward(); printing here just because binder is so slow\n",
            "In model.forward(); printing here just because binder is so slow\n",
            "In model.forward(); printing here just because binder is so slow\n",
            "In model.forward(); printing here just because binder is so slow\n",
            "In model.forward(); printing here just because binder is so slow\n",
            "In model.forward(); printing here just because binder is so slow\n"
          ],
          "name": "stdout"
        },
        {
          "output_type": "stream",
          "text": [
            "batch_loss: 0.0011, loss: 0.0020 ||:  88%|########8 | 177/200 [00:05<00:00, 36.38it/s]"
          ],
          "name": "stderr"
        },
        {
          "output_type": "stream",
          "text": [
            "In model.forward(); printing here just because binder is so slow\n",
            "In model.forward(); printing here just because binder is so slow\n",
            "In model.forward(); printing here just because binder is so slow\n",
            "In model.forward(); printing here just because binder is so slow\n",
            "In model.forward(); printing here just because binder is so slow\n",
            "In model.forward(); printing here just because binder is so slow\n",
            "In model.forward(); printing here just because binder is so slow\n",
            "In model.forward(); printing here just because binder is so slow\n"
          ],
          "name": "stdout"
        },
        {
          "output_type": "stream",
          "text": [
            "\rbatch_loss: 0.0043, loss: 0.0020 ||:  90%|######### | 181/200 [00:05<00:00, 33.87it/s]"
          ],
          "name": "stderr"
        },
        {
          "output_type": "stream",
          "text": [
            "In model.forward(); printing here just because binder is so slow\n",
            "In model.forward(); printing here just because binder is so slow\n",
            "In model.forward(); printing here just because binder is so slow\n",
            "In model.forward(); printing here just because binder is so slow\n",
            "In model.forward(); printing here just because binder is so slow\n",
            "In model.forward(); printing here just because binder is so slow\n",
            "In model.forward(); printing here just because binder is so slow\n"
          ],
          "name": "stdout"
        },
        {
          "output_type": "stream",
          "text": [
            "batch_loss: 0.0016, loss: 0.0020 ||:  94%|#########4| 189/200 [00:05<00:00, 31.85it/s]"
          ],
          "name": "stderr"
        },
        {
          "output_type": "stream",
          "text": [
            "In model.forward(); printing here just because binder is so slow\n",
            "In model.forward(); printing here just because binder is so slow\n",
            "In model.forward(); printing here just because binder is so slow\n",
            "In model.forward(); printing here just because binder is so slow\n",
            "In model.forward(); printing here just because binder is so slow\n",
            "In model.forward(); printing here just because binder is so slow\n"
          ],
          "name": "stdout"
        },
        {
          "output_type": "stream",
          "text": [
            "\rbatch_loss: 0.0028, loss: 0.0020 ||:  96%|#########6| 193/200 [00:05<00:00, 29.82it/s]"
          ],
          "name": "stderr"
        },
        {
          "output_type": "stream",
          "text": [
            "In model.forward(); printing here just because binder is so slow\n",
            "In model.forward(); printing here just because binder is so slow\n",
            "In model.forward(); printing here just because binder is so slow\n",
            "In model.forward(); printing here just because binder is so slow\n",
            "In model.forward(); printing here just because binder is so slow\n",
            "In model.forward(); printing here just because binder is so slow\n"
          ],
          "name": "stdout"
        },
        {
          "output_type": "stream",
          "text": [
            "batch_loss: 0.0025, loss: 0.0019 ||: 100%|##########| 200/200 [00:05<00:00, 33.38it/s]\n",
            "batch_loss: 0.1532, loss: 0.3453 ||: 100%|##########| 25/25 [00:00<00:00, 420.96it/s]\n"
          ],
          "name": "stderr"
        },
        {
          "output_type": "stream",
          "text": [
            "In model.forward(); printing here just because binder is so slow\n",
            "In model.forward(); printing here just because binder is so slow\n",
            "In model.forward(); printing here just because binder is so slow\n",
            "In model.forward(); printing here just because binder is so slow\n",
            "In model.forward(); printing here just because binder is so slow\n",
            "In model.forward(); printing here just because binder is so slow\n",
            "In model.forward(); printing here just because binder is so slow\n",
            "In model.forward(); printing here just because binder is so slow\n",
            "In model.forward(); printing here just because binder is so slow\n",
            "In model.forward(); printing here just because binder is so slow\n",
            "In model.forward(); printing here just because binder is so slow\n",
            "In model.forward(); printing here just because binder is so slow\n",
            "In model.forward(); printing here just because binder is so slow\n",
            "In model.forward(); printing here just because binder is so slow\n",
            "In model.forward(); printing here just because binder is so slow\n",
            "In model.forward(); printing here just because binder is so slow\n",
            "In model.forward(); printing here just because binder is so slow\n",
            "In model.forward(); printing here just because binder is so slow\n",
            "In model.forward(); printing here just because binder is so slow\n",
            "In model.forward(); printing here just because binder is so slow\n",
            "In model.forward(); printing here just because binder is so slow\n",
            "In model.forward(); printing here just because binder is so slow\n",
            "In model.forward(); printing here just because binder is so slow\n",
            "In model.forward(); printing here just because binder is so slow\n",
            "In model.forward(); printing here just because binder is so slow\n",
            "In model.forward(); printing here just because binder is so slow\n",
            "In model.forward(); printing here just because binder is so slow\n",
            "In model.forward(); printing here just because binder is so slow\n",
            "Finished training\n"
          ],
          "name": "stdout"
        },
        {
          "output_type": "execute_result",
          "data": {
            "text/plain": [
              "(SimpleClassifier(\n",
              "   (embedder): BasicTextFieldEmbedder(\n",
              "     (token_embedder_tokens): Embedding()\n",
              "   )\n",
              "   (encoder): BagOfEmbeddingsEncoder()\n",
              "   (classifier): Linear(in_features=10, out_features=2, bias=True)\n",
              " ), <__main__.ClassificationTsvReader at 0x7f914f2cd150>)"
            ]
          },
          "metadata": {
            "tags": []
          },
          "execution_count": 16
        }
      ]
    },
    {
      "cell_type": "code",
      "metadata": {
        "id": "eMel_Vclukh6"
      },
      "source": [
        ""
      ],
      "execution_count": null,
      "outputs": []
    }
  ]
}